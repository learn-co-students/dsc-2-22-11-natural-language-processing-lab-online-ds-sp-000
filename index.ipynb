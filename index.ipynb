{
 "cells": [
  {
   "cell_type": "markdown",
   "metadata": {},
   "source": [
    "# Word Vectorization - Lab\n",
    "\n",
    "## Introduction\n",
    "\n",
    "In this lab, we'll learn how tokenize and vectorize text documents, create an use a Bag of Words, and identify words unique to individual documents using TF-IDF Vectorization. \n",
    "\n",
    "## Objectives\n",
    "\n",
    "You will be able to: \n",
    "\n",
    "* Tokenize a corpus of words and identify the different choices to be made while parsing them\n",
    "* Use a Count Vectorization strategy to create a Bag of Words\n",
    "* Use TF-IDF Vectorization with multiple documents to identify words that are important/unique to certain documents\n",
    "\n",
    "## Let's get started!\n",
    "\n",
    "Run the cell below to import everything necessary for this lab.  "
   ]
  },
  {
   "cell_type": "code",
   "execution_count": null,
   "metadata": {},
   "outputs": [],
   "source": [
    "!pip install nltk"
   ]
  },
  {
   "cell_type": "code",
   "execution_count": 2,
   "metadata": {},
   "outputs": [],
   "source": [
    "import pandas as pd\n",
    "import numpy as np\n",
    "from mpl_toolkits.mplot3d import Axes3D\n",
    "import matplotlib.pyplot as plt\n",
    "%matplotlib inline\n",
    "from sklearn.manifold import TSNE\n",
    "from nltk.tokenize import word_tokenize\n",
    "np.random.seed(0)"
   ]
  },
  {
   "cell_type": "markdown",
   "metadata": {},
   "source": [
    "### Our Corpus\n",
    "\n",
    "In this lab, we'll be working with 20 different documents, each containing song lyrics from either Garth Brooks or Kendrick Lamar albums.  \n",
    "\n",
    "The songs are contained within the `data` subdirectory, contained within the same folder as this lab.  Each song is stored in a single file, with files ranging from `song1.txt` to `song20.txt`.  \n",
    "\n",
    "To make it easy to read in all of the documents, use a list comprehension to create a list containing the name of every single song file in the cell below. "
   ]
  },
  {
   "cell_type": "code",
   "execution_count": 3,
   "metadata": {},
   "outputs": [],
   "source": [
    "filenames = ['song' + str(i) + '.txt' for i in range(1, 21)]"
   ]
  },
  {
   "cell_type": "markdown",
   "metadata": {},
   "source": [
    "Next, let's import a single song to see what our text looks like so that we can make sure we clean and tokenize it correctly. \n",
    "\n",
    "In the cell below, read in and print out the lyrics from `song11.txt`.  Use vanilla python, no pandas needed.  "
   ]
  },
  {
   "cell_type": "code",
   "execution_count": 4,
   "metadata": {},
   "outputs": [
    {
     "name": "stdout",
     "output_type": "stream",
     "text": [
      "['[Kendrick Lamar:]\\n', \"Love, let's talk about love\\n\", 'Is it anything and everything you hoped for?\\n', 'Or do the feeling haunt you?\\n', 'I know the feeling haunt you\\n', '[SZA:]\\n', 'This may be the night that my dreams might let me know\\n', 'All the stars approach you, all the stars approach you, all the stars approach you\\n', 'This may be the night that my dreams might let me know\\n', 'All the stars are closer, all the stars are closer, all the stars are closer\\n', '[Kendrick Lamar:]\\n', \"Tell me what you gon' do to me\\n\", \"Confrontation ain't nothin' new to me\\n\", 'You can bring a bullet, bring a sword, bring a morgue\\n', \"But you can't bring the truth to me\\n\", 'Fuck you and all your expectations\\n', \"I don't even want your congratulations\\n\", 'I recognize your false confidence\\n', 'And calculated promises all in your conversation\\n', 'I hate people that feel entitled\\n', \"Look at me crazy 'cause I ain't invite you\\n\", 'Oh, you important?\\n', \"You the moral to the story? You endorsin'?\\n\", \"Motherfucker, I don't even like you\\n\", \"Corrupt a man's heart with a gift\\n\", \"That's how you find out who you dealin' with\\n\", \"A small percentage who I'm buildin' with\\n\", \"I want the credit if I'm losin' or I'm winnin'\\n\", \"On my momma, that's the realest shit\\n\", \"Love, let's talk about love\\n\", 'Is it anything and everything you hoped for?\\n', 'Or do the feeling haunt you?\\n', 'I know the feeling haunt you\\n', '[SZA:]\\n', 'This may be the night that my dreams might let me know\\n', 'All the stars approach you, all the stars approach you, all the stars approach you\\n', 'This may be the night that my dreams might let me know\\n', 'All the stars are closer, all the stars are closer, all the stars are closer\\n', 'Skin covered in ego\\n', \"Get to talkin' like ya involved, like a rebound\\n\", 'Got no end game, got no reason\\n', \"Got to stay down, it's the way that you making me feel\\n\", 'Like nobody ever loved me like you do, you do\\n', \"You kinda feeling like you're tryna get away from me\\n\", \"If you do, I won't move\\n\", \"I ain't just cryin' for no reason\\n\", \"I ain't just prayin' for no reason\\n\", 'I give thanks for the days, for the hours\\n', \"And another way, another life breathin'\\n\", \"I did it all 'cause it feel good\\n\", \"I wouldn't do it at all if it feel bad\\n\", \"Better live your life, we're runnin' out of time\\n\", '[Kendrick Lamar & SZA:]\\n', \"Love, let's talk about love\\n\", 'Is it anything and everything you hoped for?\\n', 'Or do the feeling haunt you?\\n', 'I know the feeling haunt you\\n', '[SZA:]\\n', 'This may be the night that my dreams might let me know\\n', 'All the stars approach you, all the stars approach you, all the stars approach you\\n', 'This may be the night that my dreams might let me know\\n', 'All the stars are closer, all the stars are closer, all the stars are closer\\n']\n"
     ]
    },
    {
     "data": {
      "text/plain": [
       "\"Love, let's talk about love\\n\""
      ]
     },
     "execution_count": 4,
     "metadata": {},
     "output_type": "execute_result"
    }
   ],
   "source": [
    "with open('data/song11.txt') as f:\n",
    "    lyric = f.readlines()\n",
    "    print(lyric)\n",
    "\n",
    "lyric[1]"
   ]
  },
  {
   "cell_type": "markdown",
   "metadata": {},
   "source": [
    "### Tokenizing our Data\n",
    "\n",
    "Before we can create a Bag of Words or vectorize each document, we need to clean it up and split each song into an array of individual words.  Computers are very particular about strings. If we tokenized our data in it's current state, we would run into the following problems:\n",
    "\n",
    "1. Counting things that aren't actually words.  In the example above, `\"[Kendrick]\"` is a note specifying who is speaking, not a lyric contained in the actual song, so it should be removed.  \n",
    "1. Punctuation and capitalization would mess up our word counts.  To the python interpreter, `love`, `Love`, `Love?`, and `Love\\n` are all unique words, and would all be counted separately.  We need to remove punctuation and capitalization, so that all words will be counted correctly. \n",
    "\n",
    "Consider the following sentences from the example above:\n",
    "\n",
    "`\"Love, let's talk about love\\n\", 'Is it anything and everything you hoped for?\\n'`\n",
    "\n",
    "After tokenization, this should look like:\n",
    "\n",
    "`['love', 'let's', 'talk', 'about', 'love', 'is', 'it', 'anything', 'and', 'everything', 'you', 'hoped', 'for']`\n",
    "\n",
    "Tokenization is pretty tedious if we handle it manually, and would probably make use of Regular Expressions, which is outside the scope of this lab.  In order to keep this lab moving, we'll use a library function to clean and tokenize our data so that we can move onto vectorization.  \n",
    "\n",
    "Tokenization is a required task for just about any Natural Language Processing (NLP) task, so great industry-standard tools exist to tokenize things for us, so that we can spend our time on more important tasks without getting bogged down hunting every special symbol or punctuation in a massive dataset. For this lab, we'll make use of the tokenizer in the amazing `nltk` library, which is short for _Natural Language Tool Kit_.\n",
    "\n",
    "**_NOTE:_** NLTK requires extra installation methods to be run the first time certain methods are used.  If `nltk` throws you an error about needing to install additional packages, follow the instructions in the error message to install the dependencies, and then rerun the cell.  \n",
    "\n",
    "Before we tokenize our songs, we'll do only a small manual bit of cleaning.  In the cell below, write a function that allows us to remove lines that have `['artist names']` in it, to ensure that our song files contain only lyrics that are actually in the song. For the lines that remain, make every word lowercase, remove newline characters `\\n`, and any of the following punctuation marks: `\",.'?!\"`\n",
    "\n",
    "Test the function on `test_song` to show that it has successfully removed `'[Kendrick Lamar:]'` and other instances of artist names from the song and returned it.  "
   ]
  },
  {
   "cell_type": "code",
   "execution_count": null,
   "metadata": {},
   "outputs": [],
   "source": [
    "test = [\"Love, let's talk about love\\n\"]"
   ]
  },
  {
   "cell_type": "code",
   "execution_count": 5,
   "metadata": {},
   "outputs": [
    {
     "name": "stdout",
     "output_type": "stream",
     "text": [
      "['love lets talk about love', 'is it anything and everything you hoped for', 'or do the feeling haunt you', 'i know the feeling haunt you', 'this may be the night that my dreams might let me know', 'all the stars approach you all the stars approach you all the stars approach you', 'this may be the night that my dreams might let me know', 'all the stars are closer all the stars are closer all the stars are closer', 'tell me what you gon do to me', 'confrontation aint nothin new to me', 'you can bring a bullet bring a sword bring a morgue', 'but you cant bring the truth to me', 'fuck you and all your expectations', 'i dont even want your congratulations', 'i recognize your false confidence', 'and calculated promises all in your conversation', 'i hate people that feel entitled', 'look at me crazy cause i aint invite you', 'oh you important', 'you the moral to the story you endorsin', 'motherfucker i dont even like you', 'corrupt a mans heart with a gift', 'thats how you find out who you dealin with', 'a small percentage who im buildin with', 'i want the credit if im losin or im winnin', 'on my momma thats the realest shit', 'love lets talk about love', 'is it anything and everything you hoped for', 'or do the feeling haunt you', 'i know the feeling haunt you', 'this may be the night that my dreams might let me know', 'all the stars approach you all the stars approach you all the stars approach you', 'this may be the night that my dreams might let me know', 'all the stars are closer all the stars are closer all the stars are closer', 'skin covered in ego', 'get to talkin like ya involved like a rebound', 'got no end game got no reason', 'got to stay down its the way that you making me feel', 'like nobody ever loved me like you do you do', 'you kinda feeling like youre tryna get away from me', 'if you do i wont move', 'i aint just cryin for no reason', 'i aint just prayin for no reason', 'i give thanks for the days for the hours', 'and another way another life breathin', 'i did it all cause it feel good', 'i wouldnt do it at all if it feel bad', 'better live your life were runnin out of time', 'love lets talk about love', 'is it anything and everything you hoped for', 'or do the feeling haunt you', 'i know the feeling haunt you', 'this may be the night that my dreams might let me know', 'all the stars approach you all the stars approach you all the stars approach you', 'this may be the night that my dreams might let me know', 'all the stars are closer all the stars are closer all the stars are closer']\n"
     ]
    }
   ],
   "source": [
    "def clean_song(song):\n",
    "    new_song =[]\n",
    "    for item in song:\n",
    "        if item.startswith('[') == False:\n",
    "            for symbol in \",.''?!\\n\":\n",
    "                if symbol in item:\n",
    "                    item = item.replace(symbol,'').lower()\n",
    "            new_song.append(item)        \n",
    "    return new_song\n",
    "\n",
    "song_without_brackets = clean_song(lyric)\n",
    "print(song_without_brackets)"
   ]
  },
  {
   "cell_type": "markdown",
   "metadata": {},
   "source": [
    "Great. Now, write a function that takes in songs that have had their brackets removed, joins all of the lines into a single string, and then uses `tokenize()` on it to get a fully tokenized version of the song.  Test this funtion on `song_without_brackets` to ensure that the function works. "
   ]
  },
  {
   "cell_type": "code",
   "execution_count": 6,
   "metadata": {},
   "outputs": [
    {
     "name": "stdout",
     "output_type": "stream",
     "text": [
      "[nltk_data] Downloading package punkt to C:\\Users\\Thien\n",
      "[nltk_data]     Nguyen\\AppData\\Roaming\\nltk_data...\n",
      "[nltk_data]   Package punkt is already up-to-date!\n"
     ]
    },
    {
     "data": {
      "text/plain": [
       "True"
      ]
     },
     "execution_count": 6,
     "metadata": {},
     "output_type": "execute_result"
    }
   ],
   "source": [
    "import nltk\n",
    "nltk.download('punkt')"
   ]
  },
  {
   "cell_type": "code",
   "execution_count": 7,
   "metadata": {},
   "outputs": [
    {
     "data": {
      "text/plain": [
       "['love',\n",
       " 'lets',\n",
       " 'talk',\n",
       " 'about',\n",
       " 'love',\n",
       " 'is',\n",
       " 'it',\n",
       " 'anything',\n",
       " 'and',\n",
       " 'everything']"
      ]
     },
     "execution_count": 7,
     "metadata": {},
     "output_type": "execute_result"
    }
   ],
   "source": [
    "def tokenize(song):\n",
    "    joined = ' '.join(song)\n",
    "    token = word_tokenize(joined)\n",
    "    return token\n",
    "\n",
    "tokenized_test_song = tokenize(song_without_brackets)\n",
    "tokenized_test_song[:10]"
   ]
  },
  {
   "cell_type": "markdown",
   "metadata": {},
   "source": [
    "Great! Now that we know the ability to tokenize our songs, we can move onto Vectorization. \n",
    "\n",
    "### Count Vectorization\n",
    "\n",
    "Machine Learning algorithms don't understand strings.  However, they do understand math, which means they understand vectors and matrices.  By **_Vectorizing_** the text, we just convert the entire text into a vector, where each element in the vector represents a different word.  The vector is the length of the entire vocabulary--usually, every word that occurs in the English language, or at least every word that appears in our corpus.  Any given sentence can then be represented as a vector where all the vector is 1 (or some other value) for each time that word appears in the sentence. \n",
    "\n",
    "Consider the following example: \n",
    "\n",
    "<center>\"I scream, you scream, we all scream for ice cream.\"</center>\n",
    "\n",
    "| 'aardvark' | 'apple' | [...] | 'I' | 'you' | 'scream' | 'we' | 'all' | 'for' | 'ice' | 'cream' | [...] | 'xylophone' | 'zebra' |\n",
    "|:----------:|:-------:|:-----:|:---:|:-----:|:--------:|:----:|:-----:|:-----:|:-----:|:-------:|:-----:|:-----------:|:-------:|\n",
    "|      0     |    0    |   0   |  1  |   1   |     3    |   1  |   1   |   1   |   1   |    1    |   0   |      0      |    0    |\n",
    "\n",
    "This is called a **_Sparse Representation_**, since the strong majority of the columns will have a value of 0.  Note that elements corresponding to words that do not occur in the sentence have a value of 0, while words that do appear in the sentence have a value of 1 (or 1 for each time it appears in the sentence).\n",
    "\n",
    "Alternatively, we can represent this sentence as a plain old python dictionary of word frequency counts:\n",
    "\n",
    "```python\n",
    "BoW = {\n",
    "    'I':1,\n",
    "    'you':1,\n",
    "    'scream':3,\n",
    "    'we':1,\n",
    "    'all':1,\n",
    "    'for':1,\n",
    "    'ice':1,\n",
    "    'cream':1\n",
    "}\n",
    "```\n",
    "\n",
    "Both of these are examples of **_Count Vectorization_**. They allow us to represent a sentence as a vector, with each element in the vector corresponding to how many times that word is used.\n",
    "\n",
    "#### Positional Information and Bag of Words\n",
    "\n",
    "Notice that when we vectorize a sentence this way, we lose the order that the words were in.  This is the **_Bag of Words_** approach mentioned earlier.  Note that sentences that contain the same words will create the same vectors, even if they mean different things--e.g. `'cats are scared of dogs'` and `'dogs are scared of cats'` would both produce the exact same vector, since they contain the same words.  \n",
    "\n",
    "In the cell below, create a function that takes in a tokenized, cleaned song and returns a Count Vectorized representation of it as a python dictionary. Add in an optional parameter called `vocab` that defaults to `None`. This way, if we are using a vocabulary that contains words not seen in the song, we can still use this function by passing it in to the `vocab` parameter. \n",
    "\n",
    "**_Hint:_**  Consider using a `set` object to make this easier!"
   ]
  },
  {
   "cell_type": "code",
   "execution_count": 8,
   "metadata": {},
   "outputs": [
    {
     "name": "stdout",
     "output_type": "stream",
     "text": [
      "{'this': 6, 'cant': 1, 'no': 4, 'stay': 1, 'do': 8, 'might': 6, 'endorsin': 1, 'cryin': 1, 'is': 3, 'wouldnt': 1, 'can': 1, 'losin': 1, 'sword': 1, 'heart': 1, 'all': 22, 'youre': 1, 'ya': 1, 'nothin': 1, 'corrupt': 1, 'at': 2, 'how': 1, 'wont': 1, 'tryna': 1, 'feel': 4, 'bullet': 1, 'give': 1, 'morgue': 1, 'may': 6, 'want': 2, 'got': 3, 'runnin': 1, 'what': 1, 'bad': 1, 'for': 7, 'mans': 1, 'get': 2, 'end': 1, 'your': 5, 'recognize': 1, 'and': 6, 'truth': 1, 'lets': 3, 'credit': 1, 'way': 2, 'my': 7, 'who': 2, 'in': 2, 'dreams': 6, 'making': 1, 'live': 1, 'everything': 3, 'dealin': 1, 'with': 3, 'expectations': 1, 'confidence': 1, 'confrontation': 1, 'moral': 1, 'feeling': 7, 'winnin': 1, 'let': 6, 'ego': 1, 'were': 1, 'anything': 3, 'move': 1, 'another': 2, 'breathin': 1, 'dont': 2, 'reason': 3, 'aint': 4, 'loved': 1, 'buildin': 1, 'time': 1, 'small': 1, 'ever': 1, 'life': 2, 'story': 1, 'on': 1, 'find': 1, 'invite': 1, 'covered': 1, 'calculated': 1, 'down': 1, 'days': 1, 'i': 15, 'realest': 1, 'people': 1, 'even': 2, 'hoped': 3, 'oh': 1, 'like': 6, 'just': 2, 'better': 1, 'entitled': 1, 'gon': 1, 'new': 1, 'hate': 1, 'me': 14, 'talk': 3, 'percentage': 1, 'a': 7, 'if': 3, 'haunt': 6, 'crazy': 1, 'im': 3, 'congratulations': 1, 'be': 6, 'conversation': 1, 'the': 38, 'look': 1, 'game': 1, 'night': 6, 'about': 3, 'are': 9, 'gift': 1, 'but': 1, 'from': 1, 'good': 1, 'of': 1, 'tell': 1, 'nobody': 1, 'know': 9, 'it': 7, 'fuck': 1, 'you': 34, 'promises': 1, 'kinda': 1, 'prayin': 1, 'love': 6, 'shit': 1, 'bring': 4, 'approach': 9, 'motherfucker': 1, 'stars': 18, 'did': 1, 'its': 1, 'rebound': 1, 'cause': 2, 'hours': 1, 'important': 1, 'to': 6, 'false': 1, 'skin': 1, 'closer': 9, 'that': 8, 'thanks': 1, 'momma': 1, 'talkin': 1, 'away': 1, 'involved': 1, 'or': 4, 'out': 2, 'thats': 2}\n"
     ]
    }
   ],
   "source": [
    "def count_vectorize(song, vocab=None):\n",
    "    if vocab:\n",
    "        unique = vocab\n",
    "    else:\n",
    "        unique = set(song)\n",
    "        \n",
    "    vector = {}\n",
    "    \n",
    "    for item in unique:\n",
    "        vector[item] = 0\n",
    "    for word in song:\n",
    "        vector[word] = vector.get(word) + 1\n",
    "    return vector\n",
    "\n",
    "test_vectorized = count_vectorize(tokenized_test_song)\n",
    "print(test_vectorized)"
   ]
  },
  {
   "cell_type": "markdown",
   "metadata": {},
   "source": [
    "Great! You've just successfully vectorized your first text document! Now, let's look at a more advanced type of vectorization, TF-IDF!\n",
    "\n",
    "### TF-IDF Vectorization\n",
    "\n",
    "TF-IDF stands for **_Term Frequency, Inverse Document Frequency_**.  This is a more advanced form of vectorization that weights each term in a document by how unique it is to the given document it is contained in, which allows us to summarize the contents of a document using a few key words.  If the word is used often in many other documents, it is not unique, and therefore probably not too useful if we wanted to figure out how this document is unique in relation to other documents.  Conversely, if a word is used many times in a document, but rarely in all the other documents we are considering, then it is likely a good indicator for telling us that this word is important to the document in question.  \n",
    "\n",
    "The formula TF-IDF uses to determine the weights of each term in a document is **_Term Frequency_** multipled by **_Inverse Document Frequency_**, where the formula for Term Frequency is:\n",
    "\n",
    "$$\\large Term\\ Frequency(t) = \\frac{number\\ of\\ times\\ t\\ appears\\ in\\ a\\ document} {total\\ number\\ of\\ terms\\ in\\ the\\ document} $$\n",
    "<br>\n",
    "<br>\n",
    "Complete the following function below to calculate term frequency for every term in a document.  "
   ]
  },
  {
   "cell_type": "code",
   "execution_count": 9,
   "metadata": {},
   "outputs": [
    {
     "data": {
      "text/plain": [
       "{'this': 6,\n",
       " 'cant': 1,\n",
       " 'no': 4,\n",
       " 'stay': 1,\n",
       " 'do': 8,\n",
       " 'might': 6,\n",
       " 'endorsin': 1,\n",
       " 'cryin': 1,\n",
       " 'is': 3,\n",
       " 'wouldnt': 1,\n",
       " 'can': 1,\n",
       " 'losin': 1,\n",
       " 'sword': 1,\n",
       " 'heart': 1,\n",
       " 'all': 22,\n",
       " 'youre': 1,\n",
       " 'ya': 1,\n",
       " 'nothin': 1,\n",
       " 'corrupt': 1,\n",
       " 'at': 2,\n",
       " 'how': 1,\n",
       " 'wont': 1,\n",
       " 'tryna': 1,\n",
       " 'feel': 4,\n",
       " 'bullet': 1,\n",
       " 'give': 1,\n",
       " 'morgue': 1,\n",
       " 'may': 6,\n",
       " 'want': 2,\n",
       " 'got': 3,\n",
       " 'runnin': 1,\n",
       " 'what': 1,\n",
       " 'bad': 1,\n",
       " 'for': 7,\n",
       " 'mans': 1,\n",
       " 'get': 2,\n",
       " 'end': 1,\n",
       " 'your': 5,\n",
       " 'recognize': 1,\n",
       " 'and': 6,\n",
       " 'truth': 1,\n",
       " 'lets': 3,\n",
       " 'credit': 1,\n",
       " 'way': 2,\n",
       " 'my': 7,\n",
       " 'who': 2,\n",
       " 'in': 2,\n",
       " 'dreams': 6,\n",
       " 'making': 1,\n",
       " 'live': 1,\n",
       " 'everything': 3,\n",
       " 'dealin': 1,\n",
       " 'with': 3,\n",
       " 'expectations': 1,\n",
       " 'confidence': 1,\n",
       " 'confrontation': 1,\n",
       " 'moral': 1,\n",
       " 'feeling': 7,\n",
       " 'winnin': 1,\n",
       " 'let': 6,\n",
       " 'ego': 1,\n",
       " 'were': 1,\n",
       " 'anything': 3,\n",
       " 'move': 1,\n",
       " 'another': 2,\n",
       " 'breathin': 1,\n",
       " 'dont': 2,\n",
       " 'reason': 3,\n",
       " 'aint': 4,\n",
       " 'loved': 1,\n",
       " 'buildin': 1,\n",
       " 'time': 1,\n",
       " 'small': 1,\n",
       " 'ever': 1,\n",
       " 'life': 2,\n",
       " 'story': 1,\n",
       " 'on': 1,\n",
       " 'find': 1,\n",
       " 'invite': 1,\n",
       " 'covered': 1,\n",
       " 'calculated': 1,\n",
       " 'down': 1,\n",
       " 'days': 1,\n",
       " 'i': 15,\n",
       " 'realest': 1,\n",
       " 'people': 1,\n",
       " 'even': 2,\n",
       " 'hoped': 3,\n",
       " 'oh': 1,\n",
       " 'like': 6,\n",
       " 'just': 2,\n",
       " 'better': 1,\n",
       " 'entitled': 1,\n",
       " 'gon': 1,\n",
       " 'new': 1,\n",
       " 'hate': 1,\n",
       " 'me': 14,\n",
       " 'talk': 3,\n",
       " 'percentage': 1,\n",
       " 'a': 7,\n",
       " 'if': 3,\n",
       " 'haunt': 6,\n",
       " 'crazy': 1,\n",
       " 'im': 3,\n",
       " 'congratulations': 1,\n",
       " 'be': 6,\n",
       " 'conversation': 1,\n",
       " 'the': 38,\n",
       " 'look': 1,\n",
       " 'game': 1,\n",
       " 'night': 6,\n",
       " 'about': 3,\n",
       " 'are': 9,\n",
       " 'gift': 1,\n",
       " 'but': 1,\n",
       " 'from': 1,\n",
       " 'good': 1,\n",
       " 'of': 1,\n",
       " 'tell': 1,\n",
       " 'nobody': 1,\n",
       " 'know': 9,\n",
       " 'it': 7,\n",
       " 'fuck': 1,\n",
       " 'you': 34,\n",
       " 'promises': 1,\n",
       " 'kinda': 1,\n",
       " 'prayin': 1,\n",
       " 'love': 6,\n",
       " 'shit': 1,\n",
       " 'bring': 4,\n",
       " 'approach': 9,\n",
       " 'motherfucker': 1,\n",
       " 'stars': 18,\n",
       " 'did': 1,\n",
       " 'its': 1,\n",
       " 'rebound': 1,\n",
       " 'cause': 2,\n",
       " 'hours': 1,\n",
       " 'important': 1,\n",
       " 'to': 6,\n",
       " 'false': 1,\n",
       " 'skin': 1,\n",
       " 'closer': 9,\n",
       " 'that': 8,\n",
       " 'thanks': 1,\n",
       " 'momma': 1,\n",
       " 'talkin': 1,\n",
       " 'away': 1,\n",
       " 'involved': 1,\n",
       " 'or': 4,\n",
       " 'out': 2,\n",
       " 'thats': 2}"
      ]
     },
     "execution_count": 9,
     "metadata": {},
     "output_type": "execute_result"
    }
   ],
   "source": [
    "test_vectorized"
   ]
  },
  {
   "cell_type": "code",
   "execution_count": 10,
   "metadata": {},
   "outputs": [
    {
     "name": "stdout",
     "output_type": "stream",
     "text": [
      "[0.0020833333333333333, 0.0020833333333333333, 0.0020833333333333333, 0.0020833333333333333, 0.04583333333333333, 0.0020833333333333333, 0.0020833333333333333, 0.0020833333333333333, 0.0020833333333333333, 0.004166666666666667]\n"
     ]
    }
   ],
   "source": [
    "def term_frequency(BoW_dict):\n",
    "    freq_dict = {}\n",
    "    total = sum(BoW_dict.values())\n",
    "    for key in BoW_dict:\n",
    "        freq_dict[key] = BoW_dict[key]/total\n",
    "    return freq_dict\n",
    "    \n",
    "test = term_frequency(test_vectorized)\n",
    "print(list(test.values())[10:20])"
   ]
  },
  {
   "cell_type": "markdown",
   "metadata": {},
   "source": [
    "The formula for Inverse Document Frequency is:  \n",
    "<br>  \n",
    "<br>\n",
    "$$\\large  IDF(t) =  log_e(\\frac{Total\\ Number\\ of\\ Documents}{Number\\ of\\ Documents\\ with\\ t\\ in\\ it})$$\n",
    "\n",
    "Now that we have this, we can easily calculate _Inverse Document Frequency_.  In the cell below, complete the following function.  this function should take in the list of dictionaries, with each item in the list being a Bag of Words representing the words in a different song. The function should return a dictionary containing the inverse document frequency values for each word.  "
   ]
  },
  {
   "cell_type": "code",
   "execution_count": 21,
   "metadata": {},
   "outputs": [],
   "source": [
    "#note to self: already takes in count vectorize of each song\n",
    "def inverse_document_frequency(list_of_dicts):\n",
    "    num = len(list_of_dicts)\n",
    "    \n",
    "    t_count = {}\n",
    "    for dictionary in list_of_dicts:\n",
    "        for word in dictionary:\n",
    "            t_count[word] = t_count.get(word,0) +1\n",
    "    \n",
    "    for word in t_count:\n",
    "        t_count[word] = np.log(num/t_count[word])\n",
    "\n",
    "    return t_count\n",
    "\n",
    "#new_test = [test_vectorized, test_vectorized]  #(used for testing fx)\n",
    "#inverse_document_frequency(new_test)      #(testing fx)"
   ]
  },
  {
   "cell_type": "markdown",
   "metadata": {},
   "source": [
    "### Computing TF-IDF\n",
    "\n",
    "Now that we can compute both Term Frequency and Inverse Document Frequency, computing an overall TF-IDF value is simple! All we need to do is multiply the two values.  \n",
    "\n",
    "In the cell below, complete the `tf_idf()` function.  This function should take in a list of dictionaries, just as the `inverse_document_frequency()` function did.  This function return a new list of dictionaries, with each dictionary containing the tf-idf vectorized representation of a corresponding song document. \n",
    "\n",
    "**_NOTE:_** Each document should contain the full vocabulary of the entire combined corpus.  "
   ]
  },
  {
   "cell_type": "code",
   "execution_count": 33,
   "metadata": {},
   "outputs": [],
   "source": [
    "def tf_idf(list_of_dicts):\n",
    "    tfidf = []\n",
    "    idf = inverse_document_frequency(list_of_dicts)\n",
    "    \n",
    "    for dictionary in list_of_dicts:\n",
    "        tf = term_frequency(dictionary)\n",
    "        for word in tf:\n",
    "            tf[word] = tf[word]*idf[word]\n",
    "        tfidf.append(tf)\n",
    "    return tfidf"
   ]
  },
  {
   "cell_type": "markdown",
   "metadata": {},
   "source": [
    "### Vectorizing All Documents\n",
    "\n",
    "Now that we've created all the necessary helper functions, we can load in all of our documents and run each through the vectorization pipeline we've just created.\n",
    "\n",
    "In the cell below, complete the `main` function.  This function should take in a list of file names (provided for you in the `filenames` list we created at the start), and then:\n",
    "\n",
    "1. Read in each document\n",
    "1. Tokenize each document\n",
    "1. Convert each document to a Bag of Words (dictionary representation)\n",
    "1. Return a list of dictionaries vectorized using tf-idf, where each dictionary is a vectorized representation of a document.  \n",
    "\n",
    "**_HINT:_** Remember that all files are stored in the `data/` directory.  Be sure to append this to the filename when reading in each file, otherwise the path won't be correct!"
   ]
  },
  {
   "cell_type": "code",
   "execution_count": null,
   "metadata": {},
   "outputs": [],
   "source": [
    "filenames"
   ]
  },
  {
   "cell_type": "code",
   "execution_count": 43,
   "metadata": {},
   "outputs": [
    {
     "name": "stdout",
     "output_type": "stream",
     "text": [
      "{'red': 0.0057839023929447606, 'when': 0.0010874236095693062, 'japan': 0.009133330102298753, 'forget': 0.007020076503030628, 'strings': 0.009133330102298753, 'teach': 0.027399990306896257, 'all': 0.002721262820904997, 'vincent': 0.009133330102298753, 'fourteen': 0.009133330102298753, 'how': 0.0018226737827915257, 'their': 0.0057839023929447606, 'bullet': 0.007020076503030628, 'ventura': 0.009133330102298753, 'theres': 0.003200677208837432, 'said': 0.007020076503030628, 'water': 0.007020076503030628, 'runnin': 0.012679521595608754, 'such': 0.009133330102298753, 'song': 0.007020076503030628, 'her': 0.0036706487936766347, 'valentines': 0.009133330102298753, 'now': 0.004906822903762501, 'for': 0.0052534501962494436, 'raised': 0.009133330102298753, 'borderline': 0.009133330102298753, 'state': 0.009133330102298753, 'highway': 0.007020076503030628, 'green': 0.007020076503030628, 'team': 0.007020076503030628, 'queens': 0.009133330102298753, 'heard': 0.014040153006061255, 'scenes': 0.009133330102298753, 'occurred': 0.009133330102298753, 'and': 0.0023457299262599307, 'so': 0.004868949367181534, 'nimbus': 0.009133330102298753, 'never': 0.005587138608988751, 'hold': 0.004906822903762501, 'my': 0.0052534501962494436, 'ride': 0.0057839023929447606, 'in': 0.0016061054216132066, 'dreams': 0.0057839023929447606, 'we': 0.010566267996340629, 'passed': 0.009133330102298753, 'as': 0.0036706487936766347, 'wild': 0.017351707178834278, 'gates': 0.027399990306896257, 'free': 0.017351707178834278, 'sad': 0.009133330102298753, 'hummed': 0.009133330102298753, 'call': 0.029440937422575003, 'beneath': 0.007020076503030628, 'moves': 0.009133330102298753, 'uncle': 0.009133330102298753, 'passage': 0.027399990306896257, 'born': 0.021060229509091883, 'made': 0.011567804785889521, 'plate': 0.007020076503030628, 'words': 0.018266660204597506, 'jc': 0.009133330102298753, 'cross': 0.009133330102298753, 'up': 0.004349694438277225, 'herb': 0.009133330102298753, 'pearly': 0.027399990306896257, 'cup': 0.027399990306896257, 'everyone': 0.021060229509091883, 'each': 0.021060229509091883, 'she': 0.004226507198536252, 'forever': 0.014040153006061255, 'fiery': 0.027399990306896257, 'they': 0.005468021348374577, 'time': 0.0036453475655830515, 'an': 0.004906822903762501, 'sea': 0.027399990306896257, 'on': 0.00015638199508399538, 'there': 0.007341297587353269, 'silver': 0.009133330102298753, 'rodeo': 0.009133330102298753, 'he': 0.012679521595608754, 'his': 0.0057839023929447606, 'walked': 0.009133330102298753, 'oh': 0.004226507198536252, 'could': 0.0057839023929447606, 'ear': 0.009133330102298753, 'bed': 0.009133330102298753, 'new': 0.0057839023929447606, 'maple': 0.009133330102298753, 'me': 0.0013606314104524985, 'pristine': 0.009133330102298753, 'a': 0.0024774227057587643, 'gods': 0.027399990306896257, 'letters': 0.009133330102298753, 'was': 0.012679521595608754, 'adds': 0.03653332040919501, 'frozen': 0.009133330102298753, 'lent': 0.009133330102298753, 'kept': 0.007020076503030628, 'signed': 0.009133330102298753, '8teen': 0.10046663112528628, 'be': 0.0013133625490623609, 'the': 0.011891628987642068, 'night': 0.012679521595608754, 'though': 0.007020076503030628, 'about': 0.0036706487936766347, 'together': 0.007020076503030628, 'big': 0.004226507198536252, 'gift': 0.021060229509091883, 'sunshine': 0.009133330102298753, 'luck': 0.027399990306896257, 'from': 0.006339760797804377, 'thunder': 0.009133330102298753, 'leaf': 0.009133330102298753, 'rode': 0.009133330102298753, 'girl': 0.0036706487936766347, 'spent': 0.009133330102298753, 'mind': 0.004906822903762501, 'of': 0.0052624769350935515, 'miracle': 0.009133330102298753, 'know': 0.003262270828707918, 'took': 0.014040153006061255, 'trinity': 0.027399990306896257, 'ore': 0.027399990306896257, 'it': 0.006803157052262493, 'day': 0.006401354417674864, 'you': 0.0004691459852519861, 'through': 0.009602031626512294, 'heaven': 0.021060229509091883, 'underlined': 0.009133330102298753, 'jesus': 0.009133330102298753, 'runneth': 0.027399990306896257, 'rolled': 0.007020076503030628, 'to': 0.0017202019459239492, 'enshrined': 0.009133330102298753, 'six': 0.009133330102298753, 'every': 0.008453014397072503, 'where': 0.004906822903762501, 'that': 0.002972907246910517, 'will': 0.023135609571779042, 'or': 0.016906028794145007, 'hands': 0.0057839023929447606, '9': 0.007020076503030628, 'blessing': 0.027399990306896257, 'out': 0.0010874236095693062, 'beside': 0.009133330102298753}\n"
     ]
    }
   ],
   "source": [
    "def main(filenames):\n",
    "    post_vectorize = []\n",
    "    #Read each file\n",
    "    for file in filenames:\n",
    "        with open('data/{}'.format(file)) as f:\n",
    "            lyric = f.readlines()\n",
    "    \n",
    "        #tokenize +clean it\n",
    "        tokenized = tokenize(clean_song(lyric))\n",
    "        \n",
    "        #BoW Conversion\n",
    "        vectorized = count_vectorize(tokenized)\n",
    "        post_vectorize.append(vectorized)\n",
    "        \n",
    "    #tfidf \n",
    "    return tf_idf(post_vectorize)\n",
    "\n",
    "tfidf_all = main(filenames)\n",
    "print(list(tf_idf_all_docs)[0])"
   ]
  },
  {
   "cell_type": "markdown",
   "metadata": {},
   "source": [
    "### Visualizing our Vectorizations\n",
    "\n",
    "Now that we have a tf-idf representation each document, we can move on to the fun part--visualizing everything!\n",
    "\n",
    "Let's investigate how many dimensions our data currently has.  In the cell below, examine our dataset to figure out how many dimensions our dataset has. \n",
    "\n",
    "**_HINT_**: Remember that every word is it's own dimension!"
   ]
  },
  {
   "cell_type": "code",
   "execution_count": 55,
   "metadata": {},
   "outputs": [
    {
     "name": "stdout",
     "output_type": "stream",
     "text": [
      "Number of Dimensions: 2706\n"
     ]
    }
   ],
   "source": [
    "num_dims = sum(len(tfidf_all[i].keys()) for i in range(0,len(tfidf_all)))\n",
    "print(\"Number of Dimensions: {}\".format(num_dims))"
   ]
  },
  {
   "cell_type": "markdown",
   "metadata": {},
   "source": [
    "That's much too high-dimensional for us to visualize! In order to make it understandable to human eyes, we'll need to reduce dimensionality to 2 or 3 dimensions.  \n",
    "\n",
    "### Reducing Dimensionality\n",
    "\n",
    "To do this, we'll use a technique called **_t-SNE_** (short for _t-Stochastic Neighbors Embedding_).  This is too complex for us to code ourselves, so we'll make use of sklearn's implementation of it.  \n",
    "\n",
    "First, we need to pull the words out of the dictionaries stored in `tf_idf_all_docs` so that only the values remain, and store them in lists instead of dictionaries.  This is because the t-SNE object only works with Array-like objects, not dictionaries.  \n",
    "\n",
    "In the cell below, create a list of lists that contains a list representation of the values of each of the dictionaries stored in `tf_idf_all_docs`.  The same structure should remain--e.g. the first list should contain only the values that were in the 1st dictionary in `tf_idf_all_docs`, and so on. "
   ]
  },
  {
   "cell_type": "code",
   "execution_count": 84,
   "metadata": {},
   "outputs": [
    {
     "data": {
      "text/plain": [
       "[[0.0057839023929447606,\n",
       "  0.0010874236095693062,\n",
       "  0.009133330102298753,\n",
       "  0.007020076503030628,\n",
       "  0.009133330102298753,\n",
       "  0.027399990306896257,\n",
       "  0.002721262820904997,\n",
       "  0.009133330102298753,\n",
       "  0.009133330102298753,\n",
       "  0.0018226737827915257,\n",
       "  0.0057839023929447606,\n",
       "  0.007020076503030628,\n",
       "  0.009133330102298753,\n",
       "  0.003200677208837432,\n",
       "  0.007020076503030628,\n",
       "  0.007020076503030628,\n",
       "  0.012679521595608754,\n",
       "  0.009133330102298753,\n",
       "  0.007020076503030628,\n",
       "  0.0036706487936766347,\n",
       "  0.009133330102298753,\n",
       "  0.004906822903762501,\n",
       "  0.0052534501962494436,\n",
       "  0.009133330102298753,\n",
       "  0.009133330102298753,\n",
       "  0.009133330102298753,\n",
       "  0.007020076503030628,\n",
       "  0.007020076503030628,\n",
       "  0.007020076503030628,\n",
       "  0.009133330102298753,\n",
       "  0.014040153006061255,\n",
       "  0.009133330102298753,\n",
       "  0.009133330102298753,\n",
       "  0.0023457299262599307,\n",
       "  0.004868949367181534,\n",
       "  0.009133330102298753,\n",
       "  0.005587138608988751,\n",
       "  0.004906822903762501,\n",
       "  0.0052534501962494436,\n",
       "  0.0057839023929447606,\n",
       "  0.0016061054216132066,\n",
       "  0.0057839023929447606,\n",
       "  0.010566267996340629,\n",
       "  0.009133330102298753,\n",
       "  0.0036706487936766347,\n",
       "  0.017351707178834278,\n",
       "  0.027399990306896257,\n",
       "  0.017351707178834278,\n",
       "  0.009133330102298753,\n",
       "  0.009133330102298753,\n",
       "  0.029440937422575003,\n",
       "  0.007020076503030628,\n",
       "  0.009133330102298753,\n",
       "  0.009133330102298753,\n",
       "  0.027399990306896257,\n",
       "  0.021060229509091883,\n",
       "  0.011567804785889521,\n",
       "  0.007020076503030628,\n",
       "  0.018266660204597506,\n",
       "  0.009133330102298753,\n",
       "  0.009133330102298753,\n",
       "  0.004349694438277225,\n",
       "  0.009133330102298753,\n",
       "  0.027399990306896257,\n",
       "  0.027399990306896257,\n",
       "  0.021060229509091883,\n",
       "  0.021060229509091883,\n",
       "  0.004226507198536252,\n",
       "  0.014040153006061255,\n",
       "  0.027399990306896257,\n",
       "  0.005468021348374577,\n",
       "  0.0036453475655830515,\n",
       "  0.004906822903762501,\n",
       "  0.027399990306896257,\n",
       "  0.00015638199508399538,\n",
       "  0.007341297587353269,\n",
       "  0.009133330102298753,\n",
       "  0.009133330102298753,\n",
       "  0.012679521595608754,\n",
       "  0.0057839023929447606,\n",
       "  0.009133330102298753,\n",
       "  0.004226507198536252,\n",
       "  0.0057839023929447606,\n",
       "  0.009133330102298753,\n",
       "  0.009133330102298753,\n",
       "  0.0057839023929447606,\n",
       "  0.009133330102298753,\n",
       "  0.0013606314104524985,\n",
       "  0.009133330102298753,\n",
       "  0.0024774227057587643,\n",
       "  0.027399990306896257,\n",
       "  0.009133330102298753,\n",
       "  0.012679521595608754,\n",
       "  0.03653332040919501,\n",
       "  0.009133330102298753,\n",
       "  0.009133330102298753,\n",
       "  0.007020076503030628,\n",
       "  0.009133330102298753,\n",
       "  0.10046663112528628,\n",
       "  0.0013133625490623609,\n",
       "  0.011891628987642068,\n",
       "  0.012679521595608754,\n",
       "  0.007020076503030628,\n",
       "  0.0036706487936766347,\n",
       "  0.007020076503030628,\n",
       "  0.004226507198536252,\n",
       "  0.021060229509091883,\n",
       "  0.009133330102298753,\n",
       "  0.027399990306896257,\n",
       "  0.006339760797804377,\n",
       "  0.009133330102298753,\n",
       "  0.009133330102298753,\n",
       "  0.009133330102298753,\n",
       "  0.0036706487936766347,\n",
       "  0.009133330102298753,\n",
       "  0.004906822903762501,\n",
       "  0.0052624769350935515,\n",
       "  0.009133330102298753,\n",
       "  0.003262270828707918,\n",
       "  0.014040153006061255,\n",
       "  0.027399990306896257,\n",
       "  0.027399990306896257,\n",
       "  0.006803157052262493,\n",
       "  0.006401354417674864,\n",
       "  0.0004691459852519861,\n",
       "  0.009602031626512294,\n",
       "  0.021060229509091883,\n",
       "  0.009133330102298753,\n",
       "  0.009133330102298753,\n",
       "  0.027399990306896257,\n",
       "  0.007020076503030628,\n",
       "  0.0017202019459239492,\n",
       "  0.009133330102298753,\n",
       "  0.009133330102298753,\n",
       "  0.008453014397072503,\n",
       "  0.004906822903762501,\n",
       "  0.002972907246910517,\n",
       "  0.023135609571779042,\n",
       "  0.016906028794145007,\n",
       "  0.0057839023929447606,\n",
       "  0.007020076503030628,\n",
       "  0.027399990306896257,\n",
       "  0.0010874236095693062,\n",
       "  0.009133330102298753],\n",
       " [0.016551007036209892,\n",
       "  0.003941159601532954,\n",
       "  0.002380016111008035,\n",
       "  0.01048132588334741,\n",
       "  0.0012328373000785068,\n",
       "  0.016551007036209892,\n",
       "  0.025442929204354096,\n",
       "  0.016551007036209892,\n",
       "  0.004931349200314027,\n",
       "  0.016551007036209892,\n",
       "  0.033102014072419784,\n",
       "  0.006605933710006855,\n",
       "  0.004411644730484926,\n",
       "  0.01740036670439797,\n",
       "  0.005800122234799324,\n",
       "  0.007659084868065693,\n",
       "  0.033102014072419784,\n",
       "  0.033102014072419784,\n",
       "  0.007140048333024104,\n",
       "  0.01048132588334741,\n",
       "  0.038164393806531145,\n",
       "  0.038164393806531145,\n",
       "  0.0022671069342563746,\n",
       "  0.010124759468222708,\n",
       "  0.026607133797258254,\n",
       "  0.014280096666048209,\n",
       "  0.004411644730484926,\n",
       "  0.0266757665044326,\n",
       "  0.0005821022964520793,\n",
       "  0.007659084868065693,\n",
       "  0.026607133797258254,\n",
       "  0.01048132588334741,\n",
       "  0.033102014072419784,\n",
       "  0.033102014072419784,\n",
       "  0.016551007036209892,\n",
       "  0.007659084868065693,\n",
       "  0.015318169736131386,\n",
       "  0.012721464602177048,\n",
       "  0.016551007036209892,\n",
       "  0.0033029668550034275,\n",
       "  0.0002833883667820468,\n",
       "  0.01740036670439797,\n",
       "  0.016551007036209892,\n",
       "  0.007659084868065693,\n",
       "  0.016551007036209892,\n",
       "  0.016551007036209892,\n",
       "  0.016551007036209892,\n",
       "  0.007659084868065693,\n",
       "  0.0088919221681442,\n",
       "  0.00476003222201607,\n",
       "  0.0012328373000785068,\n",
       "  0.005800122234799324,\n",
       "  0.012721464602177048,\n",
       "  0.0017957892762185076,\n",
       "  0.044459610840721,\n",
       "  0.02096265176669482,\n",
       "  0.0088919221681442,\n",
       "  0.012721464602177048,\n",
       "  0.0066517834493145635,\n",
       "  0.00476003222201607,\n",
       "  0.007140048333024104,\n",
       "  0.008978946381092538,\n",
       "  0.005800122234799324,\n",
       "  0.016551007036209892,\n",
       "  0.012721464602177048,\n",
       "  0.03144397765004223,\n",
       "  0.01048132588334741,\n",
       "  0.0066517834493145635,\n",
       "  0.001970579800766477,\n",
       "  0.016551007036209892,\n",
       "  0.007397023800471042,\n",
       "  0.0088919221681442,\n",
       "  0.016551007036209892,\n",
       "  0.011900080555040174,\n",
       "  0.012721464602177048,\n",
       "  0.015318169736131386,\n",
       "  0.012721464602177048,\n",
       "  0.0005667767335640936,\n",
       "  0.016551007036209892,\n",
       "  0.016551007036209892,\n",
       "  0.0088919221681442,\n",
       "  0.006285262466764777,\n",
       "  0.02096265176669482,\n",
       "  0.08275503518104947,\n",
       "  0.001970579800766477,\n",
       "  0.02297725460419708,\n",
       "  0.016551007036209892]]"
      ]
     },
     "execution_count": 84,
     "metadata": {},
     "output_type": "execute_result"
    }
   ],
   "source": [
    "tf_idf_vals_list = []\n",
    "\n",
    "for i in tf_idf_all_docs:\n",
    "    tf_idf_vals_list.append(list(i.values()))\n",
    "    \n",
    "(tf_idf_vals_list[:2])"
   ]
  },
  {
   "cell_type": "markdown",
   "metadata": {},
   "source": [
    "Now that we have only the values, we can use the `TSNE` object from `sklearn` to transform our data appropriately.  In the cell below, create a `TSNE` with `n_components=3` passed in as a parameter.  Then, use the created object's `fit_transform()` method to transform the data stored in `tf_idf_vals_list` into 3-dimensional data.  Then, inspect the newly transformed data to confirm that it has the correct dimensionality. "
   ]
  },
  {
   "cell_type": "code",
   "execution_count": 83,
   "metadata": {},
   "outputs": [
    {
     "ename": "ValueError",
     "evalue": "setting an array element with a sequence.",
     "output_type": "error",
     "traceback": [
      "\u001b[1;31m---------------------------------------------------------------------------\u001b[0m",
      "\u001b[1;31mValueError\u001b[0m                                Traceback (most recent call last)",
      "\u001b[1;32m<ipython-input-83-cb58b826e17c>\u001b[0m in \u001b[0;36m<module>\u001b[1;34m()\u001b[0m\n\u001b[0;32m      1\u001b[0m \u001b[1;33m\u001b[0m\u001b[0m\n\u001b[0;32m      2\u001b[0m \u001b[0mt_sne_object_3d\u001b[0m \u001b[1;33m=\u001b[0m \u001b[0mTSNE\u001b[0m\u001b[1;33m(\u001b[0m\u001b[0mn_components\u001b[0m\u001b[1;33m=\u001b[0m\u001b[1;36m3\u001b[0m\u001b[1;33m)\u001b[0m\u001b[1;33m\u001b[0m\u001b[0m\n\u001b[1;32m----> 3\u001b[1;33m \u001b[0mtransformed_data_3d\u001b[0m \u001b[1;33m=\u001b[0m \u001b[0mt_sne_object_3d\u001b[0m\u001b[1;33m.\u001b[0m\u001b[0mfit_transform\u001b[0m\u001b[1;33m(\u001b[0m\u001b[0mtf_idf_vals_list\u001b[0m\u001b[1;33m)\u001b[0m\u001b[1;33m\u001b[0m\u001b[0m\n\u001b[0m\u001b[0;32m      4\u001b[0m \u001b[0mtransformed_data_3d\u001b[0m\u001b[1;33m\u001b[0m\u001b[0m\n",
      "\u001b[1;32m~\\Anaconda3\\lib\\site-packages\\sklearn\\manifold\\t_sne.py\u001b[0m in \u001b[0;36mfit_transform\u001b[1;34m(self, X, y)\u001b[0m\n\u001b[0;32m    856\u001b[0m             \u001b[0mEmbedding\u001b[0m \u001b[0mof\u001b[0m \u001b[0mthe\u001b[0m \u001b[0mtraining\u001b[0m \u001b[0mdata\u001b[0m \u001b[1;32min\u001b[0m \u001b[0mlow\u001b[0m\u001b[1;33m-\u001b[0m\u001b[0mdimensional\u001b[0m \u001b[0mspace\u001b[0m\u001b[1;33m.\u001b[0m\u001b[1;33m\u001b[0m\u001b[0m\n\u001b[0;32m    857\u001b[0m         \"\"\"\n\u001b[1;32m--> 858\u001b[1;33m         \u001b[0membedding\u001b[0m \u001b[1;33m=\u001b[0m \u001b[0mself\u001b[0m\u001b[1;33m.\u001b[0m\u001b[0m_fit\u001b[0m\u001b[1;33m(\u001b[0m\u001b[0mX\u001b[0m\u001b[1;33m)\u001b[0m\u001b[1;33m\u001b[0m\u001b[0m\n\u001b[0m\u001b[0;32m    859\u001b[0m         \u001b[0mself\u001b[0m\u001b[1;33m.\u001b[0m\u001b[0membedding_\u001b[0m \u001b[1;33m=\u001b[0m \u001b[0membedding\u001b[0m\u001b[1;33m\u001b[0m\u001b[0m\n\u001b[0;32m    860\u001b[0m         \u001b[1;32mreturn\u001b[0m \u001b[0mself\u001b[0m\u001b[1;33m.\u001b[0m\u001b[0membedding_\u001b[0m\u001b[1;33m\u001b[0m\u001b[0m\n",
      "\u001b[1;32m~\\Anaconda3\\lib\\site-packages\\sklearn\\manifold\\t_sne.py\u001b[0m in \u001b[0;36m_fit\u001b[1;34m(self, X, skip_num_points)\u001b[0m\n\u001b[0;32m    658\u001b[0m         \u001b[1;32melse\u001b[0m\u001b[1;33m:\u001b[0m\u001b[1;33m\u001b[0m\u001b[0m\n\u001b[0;32m    659\u001b[0m             X = check_array(X, accept_sparse=['csr', 'csc', 'coo'],\n\u001b[1;32m--> 660\u001b[1;33m                             dtype=[np.float32, np.float64])\n\u001b[0m\u001b[0;32m    661\u001b[0m         \u001b[1;32mif\u001b[0m \u001b[0mself\u001b[0m\u001b[1;33m.\u001b[0m\u001b[0mmethod\u001b[0m \u001b[1;33m==\u001b[0m \u001b[1;34m'barnes_hut'\u001b[0m \u001b[1;32mand\u001b[0m \u001b[0mself\u001b[0m\u001b[1;33m.\u001b[0m\u001b[0mn_components\u001b[0m \u001b[1;33m>\u001b[0m \u001b[1;36m3\u001b[0m\u001b[1;33m:\u001b[0m\u001b[1;33m\u001b[0m\u001b[0m\n\u001b[0;32m    662\u001b[0m             raise ValueError(\"'n_components' should be inferior to 4 for the \"\n",
      "\u001b[1;32m~\\Anaconda3\\lib\\site-packages\\sklearn\\utils\\validation.py\u001b[0m in \u001b[0;36mcheck_array\u001b[1;34m(array, accept_sparse, dtype, order, copy, force_all_finite, ensure_2d, allow_nd, ensure_min_samples, ensure_min_features, warn_on_dtype, estimator)\u001b[0m\n\u001b[0;32m    431\u001b[0m                                       force_all_finite)\n\u001b[0;32m    432\u001b[0m     \u001b[1;32melse\u001b[0m\u001b[1;33m:\u001b[0m\u001b[1;33m\u001b[0m\u001b[0m\n\u001b[1;32m--> 433\u001b[1;33m         \u001b[0marray\u001b[0m \u001b[1;33m=\u001b[0m \u001b[0mnp\u001b[0m\u001b[1;33m.\u001b[0m\u001b[0marray\u001b[0m\u001b[1;33m(\u001b[0m\u001b[0marray\u001b[0m\u001b[1;33m,\u001b[0m \u001b[0mdtype\u001b[0m\u001b[1;33m=\u001b[0m\u001b[0mdtype\u001b[0m\u001b[1;33m,\u001b[0m \u001b[0morder\u001b[0m\u001b[1;33m=\u001b[0m\u001b[0morder\u001b[0m\u001b[1;33m,\u001b[0m \u001b[0mcopy\u001b[0m\u001b[1;33m=\u001b[0m\u001b[0mcopy\u001b[0m\u001b[1;33m)\u001b[0m\u001b[1;33m\u001b[0m\u001b[0m\n\u001b[0m\u001b[0;32m    434\u001b[0m \u001b[1;33m\u001b[0m\u001b[0m\n\u001b[0;32m    435\u001b[0m         \u001b[1;32mif\u001b[0m \u001b[0mensure_2d\u001b[0m\u001b[1;33m:\u001b[0m\u001b[1;33m\u001b[0m\u001b[0m\n",
      "\u001b[1;31mValueError\u001b[0m: setting an array element with a sequence."
     ]
    }
   ],
   "source": [
    "\n",
    "t_sne_object_3d = TSNE(n_components=3)\n",
    "transformed_data_3d = t_sne_object_3d.fit_transform(tf_idf_vals_list)\n",
    "transformed_data_3d"
   ]
  },
  {
   "cell_type": "markdown",
   "metadata": {},
   "source": [
    "We'll also want to check out how the visualization looks in 2d.  Repeat the process above, but this time, create a `TSNE` object with 2 components instead of 3.  Again, use `fit_transform()` to transform the data and store it in the variable below, and then inspect it to confirm the transformed data has only 2 dimensions. "
   ]
  },
  {
   "cell_type": "code",
   "execution_count": 67,
   "metadata": {},
   "outputs": [
    {
     "ename": "ValueError",
     "evalue": "setting an array element with a sequence.",
     "output_type": "error",
     "traceback": [
      "\u001b[1;31m---------------------------------------------------------------------------\u001b[0m",
      "\u001b[1;31mValueError\u001b[0m                                Traceback (most recent call last)",
      "\u001b[1;32m<ipython-input-67-b51b30b182b4>\u001b[0m in \u001b[0;36m<module>\u001b[1;34m()\u001b[0m\n\u001b[0;32m      1\u001b[0m \u001b[1;33m\u001b[0m\u001b[0m\n\u001b[0;32m      2\u001b[0m \u001b[0mt_sne_object_2d\u001b[0m \u001b[1;33m=\u001b[0m \u001b[0mTSNE\u001b[0m\u001b[1;33m(\u001b[0m\u001b[0mn_components\u001b[0m\u001b[1;33m=\u001b[0m\u001b[1;36m2\u001b[0m\u001b[1;33m)\u001b[0m\u001b[1;33m\u001b[0m\u001b[0m\n\u001b[1;32m----> 3\u001b[1;33m \u001b[0mtransformed_data_2d\u001b[0m \u001b[1;33m=\u001b[0m \u001b[0mt_sne_object_2d\u001b[0m\u001b[1;33m.\u001b[0m\u001b[0mfit_transform\u001b[0m\u001b[1;33m(\u001b[0m\u001b[0mtf_idf_vals_list\u001b[0m\u001b[1;33m)\u001b[0m\u001b[1;33m\u001b[0m\u001b[0m\n\u001b[0m\u001b[0;32m      4\u001b[0m \u001b[0mtransformed_data_2d\u001b[0m\u001b[1;33m\u001b[0m\u001b[0m\n",
      "\u001b[1;32m~\\Anaconda3\\lib\\site-packages\\sklearn\\manifold\\t_sne.py\u001b[0m in \u001b[0;36mfit_transform\u001b[1;34m(self, X, y)\u001b[0m\n\u001b[0;32m    856\u001b[0m             \u001b[0mEmbedding\u001b[0m \u001b[0mof\u001b[0m \u001b[0mthe\u001b[0m \u001b[0mtraining\u001b[0m \u001b[0mdata\u001b[0m \u001b[1;32min\u001b[0m \u001b[0mlow\u001b[0m\u001b[1;33m-\u001b[0m\u001b[0mdimensional\u001b[0m \u001b[0mspace\u001b[0m\u001b[1;33m.\u001b[0m\u001b[1;33m\u001b[0m\u001b[0m\n\u001b[0;32m    857\u001b[0m         \"\"\"\n\u001b[1;32m--> 858\u001b[1;33m         \u001b[0membedding\u001b[0m \u001b[1;33m=\u001b[0m \u001b[0mself\u001b[0m\u001b[1;33m.\u001b[0m\u001b[0m_fit\u001b[0m\u001b[1;33m(\u001b[0m\u001b[0mX\u001b[0m\u001b[1;33m)\u001b[0m\u001b[1;33m\u001b[0m\u001b[0m\n\u001b[0m\u001b[0;32m    859\u001b[0m         \u001b[0mself\u001b[0m\u001b[1;33m.\u001b[0m\u001b[0membedding_\u001b[0m \u001b[1;33m=\u001b[0m \u001b[0membedding\u001b[0m\u001b[1;33m\u001b[0m\u001b[0m\n\u001b[0;32m    860\u001b[0m         \u001b[1;32mreturn\u001b[0m \u001b[0mself\u001b[0m\u001b[1;33m.\u001b[0m\u001b[0membedding_\u001b[0m\u001b[1;33m\u001b[0m\u001b[0m\n",
      "\u001b[1;32m~\\Anaconda3\\lib\\site-packages\\sklearn\\manifold\\t_sne.py\u001b[0m in \u001b[0;36m_fit\u001b[1;34m(self, X, skip_num_points)\u001b[0m\n\u001b[0;32m    658\u001b[0m         \u001b[1;32melse\u001b[0m\u001b[1;33m:\u001b[0m\u001b[1;33m\u001b[0m\u001b[0m\n\u001b[0;32m    659\u001b[0m             X = check_array(X, accept_sparse=['csr', 'csc', 'coo'],\n\u001b[1;32m--> 660\u001b[1;33m                             dtype=[np.float32, np.float64])\n\u001b[0m\u001b[0;32m    661\u001b[0m         \u001b[1;32mif\u001b[0m \u001b[0mself\u001b[0m\u001b[1;33m.\u001b[0m\u001b[0mmethod\u001b[0m \u001b[1;33m==\u001b[0m \u001b[1;34m'barnes_hut'\u001b[0m \u001b[1;32mand\u001b[0m \u001b[0mself\u001b[0m\u001b[1;33m.\u001b[0m\u001b[0mn_components\u001b[0m \u001b[1;33m>\u001b[0m \u001b[1;36m3\u001b[0m\u001b[1;33m:\u001b[0m\u001b[1;33m\u001b[0m\u001b[0m\n\u001b[0;32m    662\u001b[0m             raise ValueError(\"'n_components' should be inferior to 4 for the \"\n",
      "\u001b[1;32m~\\Anaconda3\\lib\\site-packages\\sklearn\\utils\\validation.py\u001b[0m in \u001b[0;36mcheck_array\u001b[1;34m(array, accept_sparse, dtype, order, copy, force_all_finite, ensure_2d, allow_nd, ensure_min_samples, ensure_min_features, warn_on_dtype, estimator)\u001b[0m\n\u001b[0;32m    431\u001b[0m                                       force_all_finite)\n\u001b[0;32m    432\u001b[0m     \u001b[1;32melse\u001b[0m\u001b[1;33m:\u001b[0m\u001b[1;33m\u001b[0m\u001b[0m\n\u001b[1;32m--> 433\u001b[1;33m         \u001b[0marray\u001b[0m \u001b[1;33m=\u001b[0m \u001b[0mnp\u001b[0m\u001b[1;33m.\u001b[0m\u001b[0marray\u001b[0m\u001b[1;33m(\u001b[0m\u001b[0marray\u001b[0m\u001b[1;33m,\u001b[0m \u001b[0mdtype\u001b[0m\u001b[1;33m=\u001b[0m\u001b[0mdtype\u001b[0m\u001b[1;33m,\u001b[0m \u001b[0morder\u001b[0m\u001b[1;33m=\u001b[0m\u001b[0morder\u001b[0m\u001b[1;33m,\u001b[0m \u001b[0mcopy\u001b[0m\u001b[1;33m=\u001b[0m\u001b[0mcopy\u001b[0m\u001b[1;33m)\u001b[0m\u001b[1;33m\u001b[0m\u001b[0m\n\u001b[0m\u001b[0;32m    434\u001b[0m \u001b[1;33m\u001b[0m\u001b[0m\n\u001b[0;32m    435\u001b[0m         \u001b[1;32mif\u001b[0m \u001b[0mensure_2d\u001b[0m\u001b[1;33m:\u001b[0m\u001b[1;33m\u001b[0m\u001b[0m\n",
      "\u001b[1;31mValueError\u001b[0m: setting an array element with a sequence."
     ]
    }
   ],
   "source": [
    "\n",
    "t_sne_object_2d = TSNE(n_components=2)\n",
    "transformed_data_2d = t_sne_object_2d.fit_transform(tf_idf_vals_list)\n",
    "transformed_data_2d"
   ]
  },
  {
   "cell_type": "markdown",
   "metadata": {},
   "source": [
    "Now, let's visualize everything!  Run the cell below to a 3D visualization of the songs."
   ]
  },
  {
   "cell_type": "code",
   "execution_count": null,
   "metadata": {},
   "outputs": [],
   "source": [
    "kendrick_3d = transformed_data_3d[:10]\n",
    "k3_x = [i[0] for i in kendrick_3d]\n",
    "k3_y = [i[1] for i in kendrick_3d]\n",
    "k3_z = [i[2] for i in kendrick_3d]\n",
    "\n",
    "garth_3d = transformed_data_3d[10:]\n",
    "g3_x = [i[0] for i in garth_3d]\n",
    "g3_y = [i[1] for i in garth_3d]\n",
    "g3_z = [i[2] for i in garth_3d]\n",
    "\n",
    "fig = plt.figure(figsize=(10,5))\n",
    "ax = fig.add_subplot(111, projection='3d')\n",
    "ax.scatter(k3_x, k3_y, k3_z, c='b', s=60, label='Kendrick')\n",
    "ax.scatter(g3_x, g3_y, g3_z, c='red', s=60, label='Garth')\n",
    "ax.view_init(30, 10)\n",
    "ax.legend()\n",
    "plt.show()\n",
    "\n",
    "kendrick_2d = transformed_data_2d[:10]\n",
    "k2_x = [i[0] for i in kendrick_2d]\n",
    "k2_y = [i[1] for i in kendrick_2d]\n",
    "\n",
    "garth_2d = transformed_data_2d[10:]\n",
    "g2_x = [i[0] for i in garth_2d]\n",
    "g2_y = [i[1] for i in garth_2d]\n",
    "\n",
    "fig = plt.figure(figsize=(20,10))\n",
    "ax = fig.add_subplot(222)\n",
    "ax.scatter(k2_x, k2_y, c='b', label='Kendrick')\n",
    "ax.scatter(g2_x, g2_y, c='red', label='Garth')\n",
    "ax.legend()\n",
    "plt.show()"
   ]
  },
  {
   "cell_type": "markdown",
   "metadata": {},
   "source": [
    "Interesting! Take a crack at interpreting these graphs by answering the following question below:\n",
    "\n",
    "What does each graph mean? Do you find one graph more informative than the other? Do you think that this method shows us discernable differences between Kendrick Lamar songs and Garth Brooks songs?  Use the graphs and your understanding of TF-IDF to support your answer.  \n",
    "\n",
    "Write your answer to this question below this line:\n",
    "________________________________________________________________________________________________________________________________\n",
    "\n",
    "Both graphs show a basic trend among the red and blue dots, although the 3-dimensional graph is more informative than the 2-dimensional graph.  We see a separation between the two artists because they both have words that they use, but the other artist does not.  The words in each song that are common to both are reduced very small numbers or to 0, because of the log operation in the IDF function.  This means that the elements of each song vector with the highest values will be the ones that have words that are unique to that specific document, or at least are rarely used in others.  "
   ]
  },
  {
   "cell_type": "markdown",
   "metadata": {},
   "source": [
    "## Summary\n",
    "\n",
    "In this lab, we learned how to: \n",
    "* Tokenize a corpus of words and identify the different choices to be made while parsing them\n",
    "* Use a Count Vectorization strategy to create a Bag of Words\n",
    "* Use TF-IDF Vectorization with multiple documents to identify words that are important/unique to certain documents\n",
    "* Visualize and compare vectorized text documents"
   ]
  }
 ],
 "metadata": {
  "kernelspec": {
   "display_name": "Python 3",
   "language": "python",
   "name": "python3"
  }
 },
 "nbformat": 4,
 "nbformat_minor": 2
}

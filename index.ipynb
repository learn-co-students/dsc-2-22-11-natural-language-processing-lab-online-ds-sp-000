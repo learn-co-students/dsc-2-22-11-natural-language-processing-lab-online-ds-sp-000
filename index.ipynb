{
 "cells": [
  {
   "cell_type": "markdown",
   "metadata": {},
   "source": [
    "# Word Vectorization - Lab\n",
    "\n",
    "## Introduction\n",
    "\n",
    "In this lab, we'll learn how tokenize and vectorize text documents, create an use a Bag of Words, and identify words unique to individual documents using TF-IDF Vectorization. \n",
    "\n",
    "## Objectives\n",
    "\n",
    "You will be able to: \n",
    "\n",
    "* Tokenize a corpus of words and identify the different choices to be made while parsing them\n",
    "* Use a Count Vectorization strategy to create a Bag of Words\n",
    "* Use TF-IDF Vectorization with multiple documents to identify words that are important/unique to certain documents\n",
    "\n",
    "## Let's get started!\n",
    "\n",
    "Run the cell below to import everything necessary for this lab.  "
   ]
  },
  {
   "cell_type": "code",
   "execution_count": 1,
   "metadata": {},
   "outputs": [],
   "source": [
    "import pandas as pd\n",
    "import numpy as np\n",
    "from mpl_toolkits.mplot3d import Axes3D\n",
    "import matplotlib.pyplot as plt\n",
    "%matplotlib inline\n",
    "from sklearn.manifold import TSNE\n",
    "from nltk.tokenize import word_tokenize\n",
    "np.random.seed(0)"
   ]
  },
  {
   "cell_type": "markdown",
   "metadata": {},
   "source": [
    "### Our Corpus\n",
    "\n",
    "In this lab, we'll be working with 20 different documents, each containing song lyrics from either Garth Brooks or Kendrick Lamar albums.  \n",
    "\n",
    "The songs are contained within the `data` subdirectory, contained within the same folder as this lab.  Each song is stored in a single file, with files ranging from `song1.txt` to `song20.txt`.  \n",
    "\n",
    "To make it easy to read in all of the documents, use a list comprehension to create a list containing the name of every single song file in the cell below. "
   ]
  },
  {
   "cell_type": "code",
   "execution_count": 2,
   "metadata": {},
   "outputs": [
    {
     "data": {
      "text/plain": [
       "['data/song1.txt',\n",
       " 'data/song2.txt',\n",
       " 'data/song3.txt',\n",
       " 'data/song4.txt',\n",
       " 'data/song5.txt',\n",
       " 'data/song6.txt',\n",
       " 'data/song7.txt',\n",
       " 'data/song8.txt',\n",
       " 'data/song9.txt',\n",
       " 'data/song10.txt',\n",
       " 'data/song11.txt',\n",
       " 'data/song12.txt',\n",
       " 'data/song13.txt',\n",
       " 'data/song14.txt',\n",
       " 'data/song15.txt',\n",
       " 'data/song16.txt',\n",
       " 'data/song17.txt',\n",
       " 'data/song18.txt',\n",
       " 'data/song19.txt',\n",
       " 'data/song20.txt']"
      ]
     },
     "execution_count": 2,
     "metadata": {},
     "output_type": "execute_result"
    }
   ],
   "source": [
    "filenames = ['data/song' + str(i) + '.txt' for i in range(1, 21)]\n",
    "filenames"
   ]
  },
  {
   "cell_type": "markdown",
   "metadata": {},
   "source": [
    "Next, create an empty DataFrame called songs_df. As we read in the songs and store and clean them, we'll store them in this DataFrame."
   ]
  },
  {
   "cell_type": "code",
   "execution_count": 3,
   "metadata": {},
   "outputs": [],
   "source": [
    "songs_df = pd.DataFrame()"
   ]
  },
  {
   "cell_type": "markdown",
   "metadata": {},
   "source": [
    "Next, let's import a single song to see what our text looks like so that we can make sure we clean and tokenize it correctly. \n",
    "\n",
    "In the cell below, read in and print out the lyrics from `song11.txt`.  Use vanilla python, no pandas needed.  "
   ]
  },
  {
   "cell_type": "code",
   "execution_count": 4,
   "metadata": {},
   "outputs": [
    {
     "data": {
      "text/plain": [
       "\"[Kendrick Lamar:]\\nLove, let's talk about love\\nIs it anything and everything you hoped for?\\nOr do the feeling haunt you?\\nI know the feeling haunt you\\n[SZA:]\\nThis may be the night that my dreams might let me know\\nAll the stars approach you, all the stars approach you, all the stars approach you\\nThis may be the night that my dreams might let me know\\nAll the stars are closer, all the stars are closer, all the stars are closer\\n[Kendrick Lamar:]\\nTell me what you gon' do to me\\nConfrontation ain't nothin' new to me\\nYou can bring a bullet, bring a sword, bring a morgue\\nBut you can't bring the truth to me\\nFuck you and all your expectations\\nI don't even want your congratulations\\nI recognize your false confidence\\nAnd calculated promises all in your conversation\\nI hate people that feel entitled\\nLook at me crazy 'cause I ain't invite you\\nOh, you important?\\nYou the moral to the story? You endorsin'?\\nMotherfucker, I don't even like you\\nCorrupt a man's heart with a gift\\nThat's how you find out who you dealin' with\\nA small percentage who I'm buildin' with\\nI want the credit if I'm losin' or I'm winnin'\\nOn my momma, that's the realest shit\\nLove, let's talk about love\\nIs it anything and everything you hoped for?\\nOr do the feeling haunt you?\\nI know the feeling haunt you\\n[SZA:]\\nThis may be the night that my dreams might let me know\\nAll the stars approach you, all the stars approach you, all the stars approach you\\nThis may be the night that my dreams might let me know\\nAll the stars are closer, all the stars are closer, all the stars are closer\\nSkin covered in ego\\nGet to talkin' like ya involved, like a rebound\\nGot no end game, got no reason\\nGot to stay down, it's the way that you making me feel\\nLike nobody ever loved me like you do, you do\\nYou kinda feeling like you're tryna get away from me\\nIf you do, I won't move\\nI ain't just cryin' for no reason\\nI ain't just prayin' for no reason\\nI give thanks for the days, for the hours\\nAnd another way, another life breathin'\\nI did it all 'cause it feel good\\nI wouldn't do it at all if it feel bad\\nBetter live your life, we're runnin' out of time\\n[Kendrick Lamar & SZA:]\\nLove, let's talk about love\\nIs it anything and everything you hoped for?\\nOr do the feeling haunt you?\\nI know the feeling haunt you\\n[SZA:]\\nThis may be the night that my dreams might let me know\\nAll the stars approach you, all the stars approach you, all the stars approach you\\nThis may be the night that my dreams might let me know\\nAll the stars are closer, all the stars are closer, all the stars are closer\\n\""
      ]
     },
     "execution_count": 4,
     "metadata": {},
     "output_type": "execute_result"
    }
   ],
   "source": [
    "test_song = open('data/song11.txt').read()\n",
    "test_song"
   ]
  },
  {
   "cell_type": "markdown",
   "metadata": {},
   "source": [
    "### Tokenizing our Data\n",
    "\n",
    "Before we can create a Bag of Words or vectorize each document, we need to clean it up and split each song into an array of individual words.  Computers are very particular about strings. If we tokenized our data in it's current state, we would run into the following problems:\n",
    "\n",
    "1. Counting things that aren't actually words.  In the example above, `\"[Kendrick]\"` is a note specifying who is speaking, not a lyric contained in the actual song, so it should be removed.  \n",
    "1. Punctuation and capitalization would mess up our word counts.  To the python interpreter, `love`, `Love`, `Love?`, and `Love\\n` are all unique words, and would all be counted separately.  We need to remove punctuation and capitalization, so that all words will be counted correctly. \n",
    "\n",
    "Consider the following sentences from the example above:\n",
    "\n",
    "`\"Love, let's talk about love\\n\", 'Is it anything and everything you hoped for?\\n'`\n",
    "\n",
    "After tokenization, this should look like:\n",
    "\n",
    "`['love', 'let's', 'talk', 'about', 'love', 'is', 'it', 'anything', 'and', 'everything', 'you', 'hoped', 'for']`\n",
    "\n",
    "Tokenization is pretty tedious if we handle it manually, and would probably make use of Regular Expressions, which is outside the scope of this lab.  In order to keep this lab moving, we'll use a library function to clean and tokenize our data so that we can move onto vectorization.  \n",
    "\n",
    "Tokenization is a required task for just about any Natural Language Processing (NLP) task, so great industry-standard tools exist to tokenize things for us, so that we can spend our time on more important tasks without getting bogged down hunting every special symbol or punctuation in a massive dataset. For this lab, we'll make use of the tokenizer in the amazing `nltk` library, which is short for _Natural Language Tool Kit_.\n",
    "\n",
    "**_NOTE:_** NLTK requires extra installation methods to be run the first time certain methods are used.  If `nltk` throws you an error about needing to install additional packages, follow the instructions in the error message to install the dependencies, and then rerun the cell.  \n",
    "\n",
    "Before we tokenize our songs, we'll do only a small manual bit of cleaning.  In the cell below, write a function that allows us to remove lines that have `['artist names']` in it, to ensure that our song files contain only lyrics that are actually in the song. For the lines that remain, make every word lowercase, remove newline characters `\\n`, and any of the following punctuation marks: `\",.'?!\"`\n",
    "\n",
    "Test the function on `test_song` to show that it has successfully removed `'[Kendrick Lamar:]'` and other instances of artist names from the song and returned it.  "
   ]
  },
  {
   "cell_type": "code",
   "execution_count": 5,
   "metadata": {},
   "outputs": [
    {
     "data": {
      "text/plain": [
       "'love lets talk about love is it anything and everything you hoped for or do the feeling haunt you i know the feeling haunt you  this may be the night that my dreams might let me know all the stars approach you all the stars approach you all the stars approach you this may be the night that my dreams might let me know all the stars are closer all the stars are closer all the stars are closer  tell me what you gon do to me confrontation aint nothin new to me you can bring a bullet bring a sword bring a morgue but you cant bring the truth to me fuck you and all your expectations i dont even want your congratulations i recognize your false confidence and calculated promises all in your conversation i hate people that feel entitled look at me crazy cause i aint invite you oh you important you the moral to the story you endorsin motherfucker i dont even like you corrupt a mans heart with a gift thats how you find out who you dealin with a small percentage who im buildin with i want the credit if im losin or im winnin on my momma thats the realest shit love lets talk about love is it anything and everything you hoped for or do the feeling haunt you i know the feeling haunt you  this may be the night that my dreams might let me know all the stars approach you all the stars approach you all the stars approach you this may be the night that my dreams might let me know all the stars are closer all the stars are closer all the stars are closer skin covered in ego get to talkin like ya involved like a rebound got no end game got no reason got to stay down its the way that you making me feel like nobody ever loved me like you do you do you kinda feeling like youre tryna get away from me if you do i wont move i aint just cryin for no reason i aint just prayin for no reason i give thanks for the days for the hours and another way another life breathin i did it all cause it feel good i wouldnt do it at all if it feel bad better live your life were runnin out of time  love lets talk about love is it anything and everything you hoped for or do the feeling haunt you i know the feeling haunt you  this may be the night that my dreams might let me know all the stars approach you all the stars approach you all the stars approach you this may be the night that my dreams might let me know all the stars are closer all the stars are closer all the stars are closer'"
      ]
     },
     "execution_count": 5,
     "metadata": {},
     "output_type": "execute_result"
    }
   ],
   "source": [
    "def clean_song(song):\n",
    "    for char in song:\n",
    "        lyrics = \"\"\n",
    "        skip1 = 0\n",
    "        for char in song:\n",
    "            if skip1 == 1 and char != ']':\n",
    "                pass\n",
    "            elif char in \",.'?!()\":\n",
    "                pass\n",
    "            elif char == '\\n':\n",
    "                lyrics += ' '\n",
    "            elif char == '[':\n",
    "                skip1 += 1\n",
    "            elif char == ']':\n",
    "                skip1 -= 1\n",
    "            else:\n",
    "                lyrics += char\n",
    "    return lyrics.lower().strip()\n",
    "\n",
    "song_without_brackets = clean_song(test_song)\n",
    "song_without_brackets"
   ]
  },
  {
   "cell_type": "markdown",
   "metadata": {},
   "source": [
    "Great. Now, write a function that takes in songs that have had their brackets removed, joins all of the lines into a single string, and then uses `tokenize()` on it to get a fully tokenized version of the song.  Test this funtion on `song_without_brackets` to ensure that the function works. "
   ]
  },
  {
   "cell_type": "code",
   "execution_count": 6,
   "metadata": {},
   "outputs": [
    {
     "data": {
      "text/plain": [
       "['love',\n",
       " 'lets',\n",
       " 'talk',\n",
       " 'about',\n",
       " 'love',\n",
       " 'is',\n",
       " 'it',\n",
       " 'anything',\n",
       " 'and',\n",
       " 'everything']"
      ]
     },
     "execution_count": 6,
     "metadata": {},
     "output_type": "execute_result"
    }
   ],
   "source": [
    "def tokenize(song):\n",
    "    cleaned_song = clean_song(song)\n",
    "    return word_tokenize(cleaned_song)\n",
    "\n",
    "tokenized_test_song = tokenize(test_song)\n",
    "tokenized_test_song[:10]"
   ]
  },
  {
   "cell_type": "markdown",
   "metadata": {},
   "source": [
    "Great! Now that we know the ability to tokenize our songs, we can move onto Vectorization. \n",
    "\n",
    "### Count Vectorization\n",
    "\n",
    "Machine Learning algorithms don't understand strings.  However, they do understand math, which means they understand vectors and matrices.  By **_Vectorizing_** the text, we just convert the entire text into a vector, where each element in the vector represents a different word.  The vector is the length of the entire vocabulary--usually, every word that occurs in the English language, or at least every word that appears in our corpus.  Any given sentence can then be represented as a vector where all the vector is 1 (or some other value) for each time that word appears in the sentence. \n",
    "\n",
    "Consider the following example: \n",
    "\n",
    "<center>\"I scream, you scream, we all scream for ice cream.\"</center>\n",
    "\n",
    "| 'aardvark' | 'apple' | [...] | 'I' | 'you' | 'scream' | 'we' | 'all' | 'for' | 'ice' | 'cream' | [...] | 'xylophone' | 'zebra' |\n",
    "|:----------:|:-------:|:-----:|:---:|:-----:|:--------:|:----:|:-----:|:-----:|:-----:|:-------:|:-----:|:-----------:|:-------:|\n",
    "|      0     |    0    |   0   |  1  |   1   |     3    |   1  |   1   |   1   |   1   |    1    |   0   |      0      |    0    |\n",
    "\n",
    "This is called a **_Sparse Representation_**, since the strong majority of the columns will have a value of 0.  Note that elements corresponding to words that do not occur in the sentence have a value of 0, while words that do appear in the sentence have a value of 1 (or 1 for each time it appears in the sentence).\n",
    "\n",
    "Alternatively, we can represent this sentence as a plain old python dictionary of word frequency counts:\n",
    "\n",
    "```python\n",
    "BoW = {\n",
    "    'I':1,\n",
    "    'you':1,\n",
    "    'scream':3,\n",
    "    'we':1,\n",
    "    'all':1,\n",
    "    'for':1,\n",
    "    'ice':1,\n",
    "    'cream':1\n",
    "}\n",
    "```\n",
    "\n",
    "Both of these are examples of **_Count Vectorization_**. They allow us to represent a sentence as a vector, with each element in the vector corresponding to how many times that word is used.\n",
    "\n",
    "#### Positional Information and Bag of Words\n",
    "\n",
    "Notice that when we vectorize a sentence this way, we lose the order that the words were in.  This is the **_Bag of Words_** approach mentioned earlier.  Note that sentences that contain the same words will create the same vectors, even if they mean different things--e.g. `'cats are scared of dogs'` and `'dogs are scared of cats'` would both produce the exact same vector, since they contain the same words.  \n",
    "\n",
    "In the cell below, create a function that takes in a tokenized, cleaned song and returns a Count Vectorized representation of it as a python dictionary. Add in an optional parameter called `vocab` that defaults to `None`. This way, if we are using a vocabulary that contains words not seen in the song, we can still use this function by passing it in to the `vocab` parameter. \n",
    "\n",
    "**_Hint:_**  Consider using a `set` object to make this easier!"
   ]
  },
  {
   "cell_type": "code",
   "execution_count": 7,
   "metadata": {},
   "outputs": [
    {
     "data": {
      "text/plain": [
       "{'be': 6,\n",
       " 'cryin': 1,\n",
       " 'corrupt': 1,\n",
       " 'calculated': 1,\n",
       " 'heart': 1,\n",
       " 'talkin': 1,\n",
       " 'all': 22,\n",
       " 'runnin': 1,\n",
       " 'ever': 1,\n",
       " 'what': 1,\n",
       " 'give': 1,\n",
       " 'youre': 1,\n",
       " 'lets': 3,\n",
       " 'that': 8,\n",
       " 'love': 6,\n",
       " 'talk': 3,\n",
       " 'for': 7,\n",
       " 'realest': 1,\n",
       " 'congratulations': 1,\n",
       " 'story': 1,\n",
       " 'dealin': 1,\n",
       " 'endorsin': 1,\n",
       " 'move': 1,\n",
       " 'another': 2,\n",
       " 'covered': 1,\n",
       " 'way': 2,\n",
       " 'crazy': 1,\n",
       " 'end': 1,\n",
       " 'stars': 18,\n",
       " 'live': 1,\n",
       " 'feeling': 7,\n",
       " 'dreams': 6,\n",
       " 'false': 1,\n",
       " 'may': 6,\n",
       " 'are': 9,\n",
       " 'aint': 4,\n",
       " 'approach': 9,\n",
       " 'involved': 1,\n",
       " 'your': 5,\n",
       " 'ego': 1,\n",
       " 'truth': 1,\n",
       " 'find': 1,\n",
       " 'cause': 2,\n",
       " 'closer': 9,\n",
       " 'expectations': 1,\n",
       " 'were': 1,\n",
       " 'skin': 1,\n",
       " 'a': 7,\n",
       " 'how': 1,\n",
       " 'bullet': 1,\n",
       " 'night': 6,\n",
       " 'nothin': 1,\n",
       " 'kinda': 1,\n",
       " 'wouldnt': 1,\n",
       " 'away': 1,\n",
       " 'game': 1,\n",
       " 'losin': 1,\n",
       " 'gift': 1,\n",
       " 'about': 3,\n",
       " 'nobody': 1,\n",
       " 'prayin': 1,\n",
       " 'my': 7,\n",
       " 'hours': 1,\n",
       " 'gon': 1,\n",
       " 'its': 1,\n",
       " 'hate': 1,\n",
       " 'invite': 1,\n",
       " 'percentage': 1,\n",
       " 'rebound': 1,\n",
       " 'momma': 1,\n",
       " 'it': 7,\n",
       " 'recognize': 1,\n",
       " 'if': 3,\n",
       " 'buildin': 1,\n",
       " 'got': 3,\n",
       " 'tryna': 1,\n",
       " 'confrontation': 1,\n",
       " 'down': 1,\n",
       " 'feel': 4,\n",
       " 'look': 1,\n",
       " 'wont': 1,\n",
       " 'the': 38,\n",
       " 'tell': 1,\n",
       " 'get': 2,\n",
       " 'promises': 1,\n",
       " 'from': 1,\n",
       " 'breathin': 1,\n",
       " 'mans': 1,\n",
       " 'might': 6,\n",
       " 'winnin': 1,\n",
       " 'ya': 1,\n",
       " 'even': 2,\n",
       " 'of': 1,\n",
       " 'know': 9,\n",
       " 'people': 1,\n",
       " 'hoped': 3,\n",
       " 'important': 1,\n",
       " 'in': 2,\n",
       " 'oh': 1,\n",
       " 'stay': 1,\n",
       " 'entitled': 1,\n",
       " 'can': 1,\n",
       " 'everything': 3,\n",
       " 'or': 4,\n",
       " 'who': 2,\n",
       " 'you': 34,\n",
       " 'new': 1,\n",
       " 'anything': 3,\n",
       " 'reason': 3,\n",
       " 'haunt': 6,\n",
       " 'no': 4,\n",
       " 'conversation': 1,\n",
       " 'this': 6,\n",
       " 'at': 2,\n",
       " 'just': 2,\n",
       " 'time': 1,\n",
       " 'thats': 2,\n",
       " 'motherfucker': 1,\n",
       " 'thanks': 1,\n",
       " 'cant': 1,\n",
       " 'loved': 1,\n",
       " 'better': 1,\n",
       " 'to': 6,\n",
       " 'and': 6,\n",
       " 'small': 1,\n",
       " 'days': 1,\n",
       " 'did': 1,\n",
       " 'bad': 1,\n",
       " 'do': 8,\n",
       " 'me': 14,\n",
       " 'life': 2,\n",
       " 'credit': 1,\n",
       " 'making': 1,\n",
       " 'good': 1,\n",
       " 'want': 2,\n",
       " 'with': 3,\n",
       " 'out': 2,\n",
       " 'like': 6,\n",
       " 'but': 1,\n",
       " 'im': 3,\n",
       " 'bring': 4,\n",
       " 'fuck': 1,\n",
       " 'let': 6,\n",
       " 'confidence': 1,\n",
       " 'on': 1,\n",
       " 'i': 15,\n",
       " 'is': 3,\n",
       " 'dont': 2,\n",
       " 'morgue': 1,\n",
       " 'sword': 1,\n",
       " 'shit': 1,\n",
       " 'moral': 1}"
      ]
     },
     "execution_count": 7,
     "metadata": {},
     "output_type": "execute_result"
    }
   ],
   "source": [
    "def count_vectorize(song, vocab=None):\n",
    "    tokens = vocab if vocab else tokenize(song)\n",
    "    vectors = {token:0 for token in set(tokens)}\n",
    "    for token in tokens:\n",
    "        vectors[token] += 1\n",
    "    return vectors\n",
    "\n",
    "test_vectorized = count_vectorize(test_song)\n",
    "test_vectorized"
   ]
  },
  {
   "cell_type": "markdown",
   "metadata": {},
   "source": [
    "Great! You've just successfully vectorized your first text document! Now, let's look at a more advanced type of vectorization, TF-IDF!\n",
    "\n",
    "### TF-IDF Vectorization\n",
    "\n",
    "TF-IDF stands for **_Term Frequency, Inverse Document Frequency_**.  This is a more advanced form of vectorization that weights each term in a document by how unique it is to the given document it is contained in, which allows us to summarize the contents of a document using a few key words.  If the word is used often in many other documents, it is not unique, and therefore probably not too useful if we wanted to figure out how this document is unique in relation to other documents.  Conversely, if a word is used many times in a document, but rarely in all the other documents we are considering, then it is likely a good indicator for telling us that this word is important to the document in question.  \n",
    "\n",
    "The formula TF-IDF uses to determine the weights of each term in a document is **_Term Frequency_** multipled by **_Inverse Document Frequency_**, where the formula for Term Frequency is:\n",
    "\n",
    "$$\\large Term\\ Frequency(t) = \\frac{number\\ of\\ times\\ t\\ appears\\ in\\ a\\ document} {total\\ number\\ of\\ terms\\ in\\ the\\ document} $$\n",
    "<br>\n",
    "<br>\n",
    "Complete the following function below to calculate term frequency for every term in a document.  "
   ]
  },
  {
   "cell_type": "code",
   "execution_count": 8,
   "metadata": {},
   "outputs": [
    {
     "name": "stdout",
     "output_type": "stream",
     "text": [
      "['give', 'youre', 'lets', 'that', 'love', 'talk', 'for', 'realest', 'congratulations', 'story']\n"
     ]
    }
   ],
   "source": [
    "def term_frequency(BoW_dict):\n",
    "    den = sum(BoW_dict.values())\n",
    "    for key in BoW_dict.keys():\n",
    "        BoW_dict[key] = BoW_dict[key] / den\n",
    "    return BoW_dict\n",
    "\n",
    "test = term_frequency(test_vectorized)\n",
    "print(list(test)[10:20])"
   ]
  },
  {
   "cell_type": "markdown",
   "metadata": {},
   "source": [
    "The formula for Inverse Document Frequency is:  \n",
    "<br>  \n",
    "<br>\n",
    "$$\\large  IDF(t) =  log_e(\\frac{Total\\ Number\\ of\\ Documents}{Number\\ of\\ Documents\\ with\\ t\\ in\\ it})$$\n",
    "\n",
    "Now that we have this, we can easily calculate _Inverse Document Frequency_.  In the cell below, complete the following function.  this function should take in the list of dictionaries, with each item in the list being a Bag of Words representing the words in a different song. The function should return a dictionary containing the inverse document frequency values for each word.  "
   ]
  },
  {
   "cell_type": "code",
   "execution_count": 9,
   "metadata": {},
   "outputs": [],
   "source": [
    "def inverse_document_frequency(list_of_dicts):\n",
    "    tot_docs = len(list_of_dicts)\n",
    "    words = []\n",
    "    for dictionary in list_of_dicts:\n",
    "        words += list(dictionary.keys()) \n",
    "    BoW = {word:0 for word in set(words)}\n",
    "    for key in BoW.keys():\n",
    "        doc_count = 0\n",
    "        for dictionary in list_of_dicts:\n",
    "            try:\n",
    "                if dictionary[key]:\n",
    "                    doc_count += 1\n",
    "            except:\n",
    "                pass\n",
    "        BoW[key] = np.log(tot_docs / doc_count)\n",
    "    return BoW"
   ]
  },
  {
   "cell_type": "markdown",
   "metadata": {},
   "source": [
    "### Computing TF-IDF\n",
    "\n",
    "Now that we can compute both Term Frequency and Inverse Document Frequency, computing an overall TF-IDF value is simple! All we need to do is multiply the two values.  \n",
    "\n",
    "In the cell below, complete the `tf_idf()` function.  This function should take in a list of dictionaries, just as the `inverse_document_frequency()` function did.  This function return a new list of dictionaries, with each dictionary containing the tf-idf vectorized representation of a corresponding song document. \n",
    "\n",
    "**_NOTE:_** Each document should contain the full vocabulary of the entire combined corpus.  "
   ]
  },
  {
   "cell_type": "code",
   "execution_count": 10,
   "metadata": {},
   "outputs": [],
   "source": [
    "def tf_idf(list_of_dicts):\n",
    "    IDF = inverse_document_frequency(list_of_dicts)\n",
    "    for dictionary in list_of_dicts:\n",
    "        TF = term_frequency(dictionary)\n",
    "        for key in IDF.keys():\n",
    "            try:\n",
    "                dictionary[key] = TF[key] * IDF[key]\n",
    "            except:\n",
    "                dictionary[key] = 0\n",
    "    return list_of_dicts"
   ]
  },
  {
   "cell_type": "markdown",
   "metadata": {},
   "source": [
    "### Vectorizing All Documents\n",
    "\n",
    "Now that we've created all the necessary helper functions, we can load in all of our documents and run each through the vectorization pipeline we've just created.\n",
    "\n",
    "In the cell below, complete the `main` function.  This function should take in a list of file names (provided for you in the `filenames` list we created at the start), and then:\n",
    "\n",
    "1. Read in each document\n",
    "1. Tokenize each document\n",
    "1. Convert each document to a Bag of Words (dictionary representation)\n",
    "1. Return a list of dictionaries vectorized using tf-idf, where each dictionary is a vectorized representation of a document.  \n",
    "\n",
    "**_HINT:_** Remember that all files are stored in the `data/` directory.  Be sure to append this to the filename when reading in each file, otherwise the path won't be correct!"
   ]
  },
  {
   "cell_type": "code",
   "execution_count": 11,
   "metadata": {},
   "outputs": [
    {
     "name": "stdout",
     "output_type": "stream",
     "text": [
      "['be', 'everyone', 'forever', 'all', 'runnin', 'wild', 'that', 'lent', 'for', 'raised']\n"
     ]
    }
   ],
   "source": [
    "def main(filenames):\n",
    "    vectorized_songs = []\n",
    "    for song in filenames:\n",
    "        f = open(song).read()\n",
    "        vectorized_songs.append(count_vectorize(f)) \n",
    "    return tf_idf(vectorized_songs)\n",
    "\n",
    "tf_idf_all_docs = main(filenames)\n",
    "print(list(tf_idf_all_docs[0])[:10])"
   ]
  },
  {
   "cell_type": "markdown",
   "metadata": {},
   "source": [
    "### Visualizing our Vectorizations\n",
    "\n",
    "Now that we have a tf-idf representation each document, we can move on to the fun part--visualizing everything!\n",
    "\n",
    "Let's investigate how many dimensions our data currently has.  In the cell below, examine our dataset to figure out how many dimensions our dataset has. \n",
    "\n",
    "**_HINT_**: Remember that every word is it's own dimension!"
   ]
  },
  {
   "cell_type": "code",
   "execution_count": 17,
   "metadata": {},
   "outputs": [
    {
     "name": "stdout",
     "output_type": "stream",
     "text": [
      "Number of Dimensions: 1345\n"
     ]
    }
   ],
   "source": [
    "num_dims = len(tf_idf_all_docs[0])\n",
    "print(\"Number of Dimensions: {}\".format(num_dims))"
   ]
  },
  {
   "cell_type": "markdown",
   "metadata": {},
   "source": [
    "That's much too high-dimensional for us to visualize! In order to make it understandable to human eyes, we'll need to reduce dimensionality to 2 or 3 dimensions.  \n",
    "\n",
    "### Reducing Dimensionality\n",
    "\n",
    "To do this, we'll use a technique called **_t-SNE_** (short for _t-Stochastic Neighbors Embedding_).  This is too complex for us to code ourselves, so we'll make use of sklearn's implementation of it.  \n",
    "\n",
    "First, we need to pull the words out of the dictionaries stored in `tf_idf_all_docs` so that only the values remain, and store them in lists instead of dictionaries.  This is because the t-SNE object only works with Array-like objects, not dictionaries.  \n",
    "\n",
    "In the cell below, create a list of lists that contains a list representation of the values of each of the dictionaries stored in `tf_idf_all_docs`.  The same structure should remain--e.g. the first list should contain only the values that were in the 1st dictionary in `tf_idf_all_docs`, and so on. "
   ]
  },
  {
   "cell_type": "code",
   "execution_count": 18,
   "metadata": {},
   "outputs": [
    {
     "data": {
      "text/plain": [
       "[0.0013133625490623609,\n",
       " 0.021060229509091883,\n",
       " 0.014040153006061255,\n",
       " 0.002721262820904997,\n",
       " 0.012679521595608754,\n",
       " 0.017351707178834278,\n",
       " 0.002972907246910517,\n",
       " 0.009133330102298753,\n",
       " 0.0052534501962494436,\n",
       " 0.009133330102298753]"
      ]
     },
     "execution_count": 18,
     "metadata": {},
     "output_type": "execute_result"
    }
   ],
   "source": [
    "tf_idf_vals_list = []\n",
    "\n",
    "for i in tf_idf_all_docs:\n",
    "    tf_idf_vals_list.append(list(i.values()))\n",
    "    \n",
    "tf_idf_vals_list[0][:10]"
   ]
  },
  {
   "cell_type": "markdown",
   "metadata": {},
   "source": [
    "Now that we have only the values, we can use the `TSNE` object from `sklearn` to transform our data appropriately.  In the cell below, create a `TSNE` with `n_components=3` passed in as a parameter.  Then, use the created object's `fit_transform()` method to transform the data stored in `tf_idf_vals_list` into 3-dimensional data.  Then, inspect the newly transformed data to confirm that it has the correct dimensionality. "
   ]
  },
  {
   "cell_type": "code",
   "execution_count": 19,
   "metadata": {},
   "outputs": [
    {
     "data": {
      "text/plain": [
       "array([[ 1.01304108e+03, -2.21010669e+03,  4.82356415e+02],\n",
       "       [ 2.81511627e+02,  2.46692154e+02, -2.50714615e+02],\n",
       "       [-3.39543671e+02, -1.95218430e+02,  8.61287384e+01],\n",
       "       [ 1.63959763e+02, -1.40010406e+02,  1.25721268e+02],\n",
       "       [-1.29527283e+02,  3.04785522e+02,  5.46044464e+01],\n",
       "       [-2.14859406e+02,  7.16979141e+01, -1.01992203e+02],\n",
       "       [ 3.30027161e+02,  9.56716614e+01,  1.26731842e+02],\n",
       "       [-5.09216194e+01,  8.31919861e+00,  2.15758926e+02],\n",
       "       [ 1.75687134e+02, -2.24964890e+02, -2.72278168e+02],\n",
       "       [-2.24132595e+01,  2.49544632e+02, -2.35305008e+02],\n",
       "       [-1.02981201e+02, -1.74395706e+02, -9.97338943e+01],\n",
       "       [ 3.30378113e+02, -8.13405304e+01, -8.48946762e+01],\n",
       "       [ 6.86384354e+01, -7.45988488e-01, -2.21718857e+02],\n",
       "       [ 7.93789520e+01,  1.14638023e+02,  3.81485462e+00],\n",
       "       [ 1.34700806e+02,  3.01864716e+02,  1.73031860e+02],\n",
       "       [ 3.82097778e+01, -5.06849243e+02,  2.22199738e+02],\n",
       "       [-4.44645004e+01, -2.91080536e+02,  1.21112335e+02],\n",
       "       [-3.03431946e+02,  7.71352615e+01,  1.83107300e+02],\n",
       "       [-8.51747742e+02,  2.23233545e+03, -4.83944519e+02],\n",
       "       [-3.57041687e+02,  5.73993958e+02, -6.69483521e+02]], dtype=float32)"
      ]
     },
     "execution_count": 19,
     "metadata": {},
     "output_type": "execute_result"
    }
   ],
   "source": [
    "t_sne_object_3d = TSNE(n_components=3)\n",
    "transformed_data_3d = t_sne_object_3d.fit_transform(tf_idf_vals_list)\n",
    "transformed_data_3d"
   ]
  },
  {
   "cell_type": "markdown",
   "metadata": {},
   "source": [
    "We'll also want to check out how the visualization looks in 2d.  Repeat the process above, but this time, create a `TSNE` object with 2 components instead of 3.  Again, use `fit_transform()` to transform the data and store it in the variable below, and then inspect it to confirm the transformed data has only 2 dimensions. "
   ]
  },
  {
   "cell_type": "code",
   "execution_count": 20,
   "metadata": {},
   "outputs": [
    {
     "data": {
      "text/plain": [
       "array([[  69.6525   , -192.3272   ],\n",
       "       [ 143.52548  , -296.45697  ],\n",
       "       [-235.67996  ,    1.6557403],\n",
       "       [ 119.15592  ,  -83.82256  ],\n",
       "       [  28.255468 ,    7.1896477],\n",
       "       [ -11.080178 ,  -95.75036  ],\n",
       "       [-135.38263  , -110.802864 ],\n",
       "       [ -33.833473 ,  101.81087  ],\n",
       "       [-101.18805  ,    1.8574841],\n",
       "       [ -43.44876  ,  227.15459  ],\n",
       "       [  -8.175651 , -326.31723  ],\n",
       "       [-170.57535  ,  127.4834   ],\n",
       "       [ 231.99632  ,  121.85291  ],\n",
       "       [ 138.35744  ,   36.599716 ],\n",
       "       [ 256.22455  ,  -37.194332 ],\n",
       "       [-258.91495  , -142.16124  ],\n",
       "       [ 219.99657  , -172.73576  ],\n",
       "       [-168.22487  , -265.54248  ],\n",
       "       [  88.72539  ,  162.81104  ],\n",
       "       [ -54.877747 , -206.01204  ]], dtype=float32)"
      ]
     },
     "execution_count": 20,
     "metadata": {},
     "output_type": "execute_result"
    }
   ],
   "source": [
    "t_sne_object_2d = TSNE(n_components=2)\n",
    "transformed_data_2d = t_sne_object_2d.fit_transform(tf_idf_vals_list)\n",
    "transformed_data_2d"
   ]
  },
  {
   "cell_type": "markdown",
   "metadata": {},
   "source": [
    "Now, let's visualize everything!  Run the cell below to a 3D visualization of the songs."
   ]
  },
  {
   "cell_type": "code",
   "execution_count": 21,
   "metadata": {},
   "outputs": [
    {
     "data": {
      "image/png": "[encoded data removed]",
      "text/plain": [
       "<Figure size 720x360 with 1 Axes>"
      ]
     },
     "metadata": {
      "needs_background": "light"
     },
     "output_type": "display_data"
    },
    {
     "data": {
      "image/png": "[encoded data removed]",
      "text/plain": [
       "<Figure size 1440x720 with 1 Axes>"
      ]
     },
     "metadata": {
      "needs_background": "light"
     },
     "output_type": "display_data"
    }
   ],
   "source": [
    "kendrick_3d = transformed_data_3d[:10]\n",
    "k3_x = [i[0] for i in kendrick_3d]\n",
    "k3_y = [i[1] for i in kendrick_3d]\n",
    "k3_z = [i[2] for i in kendrick_3d]\n",
    "\n",
    "garth_3d = transformed_data_3d[10:]\n",
    "g3_x = [i[0] for i in garth_3d]\n",
    "g3_y = [i[1] for i in garth_3d]\n",
    "g3_z = [i[2] for i in garth_3d]\n",
    "\n",
    "fig = plt.figure(figsize=(10,5))\n",
    "ax = fig.add_subplot(111, projection='3d')\n",
    "ax.scatter(k3_x, k3_y, k3_z, c='b', s=60, label='Kendrick')\n",
    "ax.scatter(g3_x, g3_y, g3_z, c='red', s=60, label='Garth')\n",
    "ax.view_init(30, 10)\n",
    "ax.legend()\n",
    "plt.show()\n",
    "\n",
    "kendrick_2d = transformed_data_2d[:10]\n",
    "k2_x = [i[0] for i in kendrick_2d]\n",
    "k2_y = [i[1] for i in kendrick_2d]\n",
    "\n",
    "garth_2d = transformed_data_2d[10:]\n",
    "g2_x = [i[0] for i in garth_2d]\n",
    "g2_y = [i[1] for i in garth_2d]\n",
    "\n",
    "fig = plt.figure(figsize=(20,10))\n",
    "ax = fig.add_subplot(222)\n",
    "ax.scatter(k2_x, k2_y, c='b', label='Kendrick')\n",
    "ax.scatter(g2_x, g2_y, c='red', label='Garth')\n",
    "ax.legend()\n",
    "plt.show()"
   ]
  },
  {
   "cell_type": "markdown",
   "metadata": {},
   "source": [
    "Interesting! Take a crack at interpreting these graphs by answering the following question below:\n",
    "\n",
    "What does each graph mean? Do you find one graph more informative than the other? Do you think that this method shows us discernable differences between Kendrick Lamar songs and Garth Brooks songs?  Use the graphs and your understanding of TF-IDF to support your answer.  \n",
    "\n",
    "Write your answer to this question below this line:\n",
    "________________________________________________________________________________________________________________________________\n",
    "\n",
    "Both graphs show a basic trend among the red and blue dots, although the 3-dimensional graph is more informative than the 2-dimensional graph.  We see a separation between the two artists because they both have words that they use, but the other artist does not.  The words in each song that are common to both are reduced very small numbers or to 0, because of the log operation in the IDF function.  This means that the elements of each song vector with the highest values will be the ones that have words that are unique to that specific document, or at least are rarely used in others.  "
   ]
  },
  {
   "cell_type": "markdown",
   "metadata": {},
   "source": [
    "## Summary\n",
    "\n",
    "In this lab, we learned how to: \n",
    "* Tokenize a corpus of words and identify the different choices to be made while parsing them\n",
    "* Use a Count Vectorization strategy to create a Bag of Words\n",
    "* Use TF-IDF Vectorization with multiple documents to identify words that are important/unique to certain documents\n",
    "* Visualize and compare vectorized text documents"
   ]
  }
 ],
 "metadata": {
  "kernelspec": {
   "display_name": "Python 3",
   "language": "python",
   "name": "python3"
  },
  "language_info": {
   "codemirror_mode": {
    "name": "ipython",
    "version": 3
   },
   "file_extension": ".py",
   "mimetype": "text/x-python",
   "name": "python",
   "nbconvert_exporter": "python",
   "pygments_lexer": "ipython3",
   "version": "3.7.1"
  }
 },
 "nbformat": 4,
 "nbformat_minor": 2
}
